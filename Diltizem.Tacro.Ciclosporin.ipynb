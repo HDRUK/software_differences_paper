{
 "cells": [
  {
   "cell_type": "code",
   "execution_count": 1,
   "metadata": {},
   "outputs": [],
   "source": [
    "##import libraries neededd\n",
    "import pandas as pd\n",
    "import numpy as np\n",
    "from ebmdatalab import bq, maps, charts\n",
    "import matplotlib.pyplot as plt\n",
    "import matplotlib.gridspec as gridspec\n"
   ]
  },
  {
   "cell_type": "code",
   "execution_count": 7,
   "metadata": {},
   "outputs": [],
   "source": [
    "###this will need cleaning up? Seb/ALex?\n",
    "vendors = pd.read_csv(r'C:\\Users\\bmackenna\\Documents\\GitHub\\jupyter-notebooks\\measures_by_software\\vendors.csv')\n",
    "# Clean up the input data\n",
    "vendors['Principal Supplier'] = vendors['Principal Supplier'].str.strip()\n",
    "vendors.loc[vendors['Principal Supplier'] == 'INPS', 'Principal Supplier'] = 'Vision'  # seems they changed in 2017\n",
    "vendors = vendors.loc[vendors['Date'] > '2016-02-01']  # there is some dirty data (\"Unknowns\") before this\n",
    "\n",
    "start = pd.to_datetime('2016-01-01')\n",
    "mid = pd.to_datetime('2017-01-01')\n",
    "end = pd.to_datetime('2018-12-01')"
   ]
  },
  {
   "cell_type": "markdown",
   "metadata": {},
   "source": [
    "## import ciclosporin and tacrolimus data"
   ]
  },
  {
   "cell_type": "code",
   "execution_count": 13,
   "metadata": {},
   "outputs": [
    {
     "name": "stderr",
     "output_type": "stream",
     "text": [
      "C:\\Users\\bmackenna\\Anaconda3\\lib\\site-packages\\pandas\\io\\gbq.py:149: FutureWarning: verbose is deprecated and will be removed in a future version. Set logging level in order to vary verbosity\n",
      "  credentials=credentials, verbose=verbose, private_key=private_key)\n"
     ]
    },
    {
     "data": {
      "text/html": [
       "<div>\n",
       "<style scoped>\n",
       "    .dataframe tbody tr th:only-of-type {\n",
       "        vertical-align: middle;\n",
       "    }\n",
       "\n",
       "    .dataframe tbody tr th {\n",
       "        vertical-align: top;\n",
       "    }\n",
       "\n",
       "    .dataframe thead th {\n",
       "        text-align: right;\n",
       "    }\n",
       "</style>\n",
       "<table border=\"1\" class=\"dataframe\">\n",
       "  <thead>\n",
       "    <tr style=\"text-align: right;\">\n",
       "      <th></th>\n",
       "      <th>supplier</th>\n",
       "      <th>practice_id</th>\n",
       "      <th>pct_id</th>\n",
       "      <th>month</th>\n",
       "      <th>numerator</th>\n",
       "      <th>denominator</th>\n",
       "      <th>measure_id</th>\n",
       "    </tr>\n",
       "  </thead>\n",
       "  <tbody>\n",
       "  </tbody>\n",
       "</table>\n",
       "</div>"
      ],
      "text/plain": [
       "Empty DataFrame\n",
       "Columns: [supplier, practice_id, pct_id, month, numerator, denominator, measure_id]\n",
       "Index: []"
      ]
     },
     "execution_count": 13,
     "metadata": {},
     "output_type": "execute_result"
    }
   ],
   "source": [
    "import importlib\n",
    "importlib.reload(bq)\n",
    "measures = ['ciclosporin']\n",
    "\n",
    "def get_data(measure_id):\n",
    "    sql = \"\"\"\n",
    "SELECT\n",
    "  TRIM(Principal_Supplier) AS supplier,\n",
    "  m.practice_id,\n",
    "  m.pct_id,\n",
    "  m.month,\n",
    "  numerator,\n",
    "  denominator,\n",
    "  '{measure_id}' AS measure_id\n",
    "FROM\n",
    "  measures.practice_data_{measure_id} m\n",
    "JOIN\n",
    "  hscic.vendors software\n",
    "ON\n",
    "  software.ODS = practice_id\n",
    "  AND Date = m.month\n",
    "JOIN\n",
    "  hscic.practices\n",
    "ON\n",
    "  practices.code = software.ODS\n",
    "JOIN\n",
    "  hscic.practice_statistics\n",
    "ON\n",
    "  practice_statistics.practice = practices.code\n",
    "  AND Date = DATE(practice_statistics.month)\n",
    "WHERE\n",
    "  practices.setting = 4\n",
    "  AND total_list_size > 100\n",
    "  AND practices.status_code = 'A'\n",
    "  AND denominator > 0\n",
    "ORDER BY\n",
    "  month\"\"\".format(measure_id=measure_id)\n",
    "    import pandas as pd\n",
    "    df = bq.cached_read(sql, csv_path=\"ciclosporintacro.csv\".format(measure_id))\n",
    "    return df\n",
    "\n",
    "\n",
    "df = get_data('ciclosporin')\n",
    "df.head(5)"
   ]
  },
  {
   "cell_type": "markdown",
   "metadata": {},
   "source": [
    "import diltiazem data\n"
   ]
  },
  {
   "cell_type": "code",
   "execution_count": 15,
   "metadata": {},
   "outputs": [
    {
     "data": {
      "text/html": [
       "<div>\n",
       "<style scoped>\n",
       "    .dataframe tbody tr th:only-of-type {\n",
       "        vertical-align: middle;\n",
       "    }\n",
       "\n",
       "    .dataframe tbody tr th {\n",
       "        vertical-align: top;\n",
       "    }\n",
       "\n",
       "    .dataframe thead th {\n",
       "        text-align: right;\n",
       "    }\n",
       "</style>\n",
       "<table border=\"1\" class=\"dataframe\">\n",
       "  <thead>\n",
       "    <tr style=\"text-align: right;\">\n",
       "      <th></th>\n",
       "      <th>supplier</th>\n",
       "      <th>practice_id</th>\n",
       "      <th>pct_id</th>\n",
       "      <th>month</th>\n",
       "      <th>numerator</th>\n",
       "      <th>denominator</th>\n",
       "      <th>measure_id</th>\n",
       "    </tr>\n",
       "  </thead>\n",
       "  <tbody>\n",
       "  </tbody>\n",
       "</table>\n",
       "</div>"
      ],
      "text/plain": [
       "Empty DataFrame\n",
       "Columns: [supplier, practice_id, pct_id, month, numerator, denominator, measure_id]\n",
       "Index: []"
      ]
     },
     "execution_count": 15,
     "metadata": {},
     "output_type": "execute_result"
    }
   ],
   "source": [
    "importlib.reload(bq)\n",
    "measures = ['diltiazem']\n",
    "\n",
    "def get_data(measure_id):\n",
    "    sql = \"\"\"\n",
    "SELECT\n",
    "  TRIM(Principal_Supplier) AS supplier,\n",
    "  m.practice_id,\n",
    "  m.pct_id,\n",
    "  m.month,\n",
    "  numerator,\n",
    "  denominator,\n",
    "  '{measure_id}' AS measure_id\n",
    "FROM\n",
    "  measures.practice_data_{measure_id} m\n",
    "JOIN\n",
    "  hscic.vendors software\n",
    "ON\n",
    "  software.ODS = practice_id\n",
    "  AND Date = m.month\n",
    "JOIN\n",
    "  hscic.practices\n",
    "ON\n",
    "  practices.code = software.ODS\n",
    "JOIN\n",
    "  hscic.practice_statistics\n",
    "ON\n",
    "  practice_statistics.practice = practices.code\n",
    "  AND Date = DATE(practice_statistics.month)\n",
    "WHERE\n",
    "  practices.setting = 4\n",
    "  AND total_list_size > 100\n",
    "  AND practices.status_code = 'A'\n",
    "  AND denominator > 0\n",
    "ORDER BY\n",
    "  month\"\"\".format(measure_id=measure_id)\n",
    "    import pandas as pd\n",
    "    df2 = bq.cached_read(sql, csv_path=\"diltiazem.csv\".format(measure_id))\n",
    "    return df2\n",
    "\n",
    "\n",
    "df2 = get_data('diltiazem')\n",
    "df2"
   ]
  },
  {
   "cell_type": "code",
   "execution_count": null,
   "metadata": {},
   "outputs": [],
   "source": []
  }
 ],
 "metadata": {
  "kernelspec": {
   "display_name": "Python 3",
   "language": "python",
   "name": "python3"
  },
  "language_info": {
   "codemirror_mode": {
    "name": "ipython",
    "version": 3
   },
   "file_extension": ".py",
   "mimetype": "text/x-python",
   "name": "python",
   "nbconvert_exporter": "python",
   "pygments_lexer": "ipython3",
   "version": "3.6.5"
  }
 },
 "nbformat": 4,
 "nbformat_minor": 2
}
