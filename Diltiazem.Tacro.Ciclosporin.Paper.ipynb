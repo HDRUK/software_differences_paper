{
 "cells": [
  {
   "cell_type": "markdown",
   "metadata": {},
   "source": [
    "This notebook is the analysis supporting the paper titled  _Assessing the impact of general practice software on prescribing safety recommendations for diltiazem, tacrolimus and ciclosporin. A cohort study in English NHS primary care_\n",
    "\n"
   ]
  },
  {
   "cell_type": "code",
   "execution_count": 1,
   "metadata": {},
   "outputs": [],
   "source": [
    "##import libraries neededd\n",
    "import pandas as pd\n",
    "import numpy as np\n",
    "from ebmdatalab import bq, maps, charts\n",
    "import matplotlib.pyplot as plt\n",
    "import matplotlib.gridspec as gridspec\n"
   ]
  },
  {
   "cell_type": "code",
   "execution_count": 2,
   "metadata": {},
   "outputs": [],
   "source": [
    "## ensuring the format is consistent for pounds and pence\n",
    "pd.set_option('display.float_format', lambda x: '%.2f' % x)"
   ]
  },
  {
   "cell_type": "markdown",
   "metadata": {},
   "source": [
    "# Part 1: Breaches in Guidance by practice/CCG"
   ]
  },
  {
   "cell_type": "markdown",
   "metadata": {},
   "source": [
    "## 1a Ciclosporin and Tacrolimus"
   ]
  },
  {
   "cell_type": "code",
   "execution_count": 3,
   "metadata": {},
   "outputs": [
    {
     "data": {
      "text/html": [
       "<div>\n",
       "<style scoped>\n",
       "    .dataframe tbody tr th:only-of-type {\n",
       "        vertical-align: middle;\n",
       "    }\n",
       "\n",
       "    .dataframe tbody tr th {\n",
       "        vertical-align: top;\n",
       "    }\n",
       "\n",
       "    .dataframe thead th {\n",
       "        text-align: right;\n",
       "    }\n",
       "</style>\n",
       "<table border=\"1\" class=\"dataframe\">\n",
       "  <thead>\n",
       "    <tr style=\"text-align: right;\">\n",
       "      <th></th>\n",
       "      <th>month</th>\n",
       "      <th>practice_id</th>\n",
       "      <th>pct</th>\n",
       "      <th>numerator</th>\n",
       "      <th>denominator</th>\n",
       "      <th>calc_value</th>\n",
       "      <th>percentile</th>\n",
       "    </tr>\n",
       "  </thead>\n",
       "  <tbody>\n",
       "    <tr>\n",
       "      <th>0</th>\n",
       "      <td>2015-02-01</td>\n",
       "      <td>A81001</td>\n",
       "      <td>00K</td>\n",
       "      <td>0</td>\n",
       "      <td>2</td>\n",
       "      <td>0.00</td>\n",
       "      <td>0.00</td>\n",
       "    </tr>\n",
       "    <tr>\n",
       "      <th>1</th>\n",
       "      <td>2015-03-01</td>\n",
       "      <td>A81001</td>\n",
       "      <td>00K</td>\n",
       "      <td>0</td>\n",
       "      <td>2</td>\n",
       "      <td>0.00</td>\n",
       "      <td>0.00</td>\n",
       "    </tr>\n",
       "    <tr>\n",
       "      <th>2</th>\n",
       "      <td>2014-11-01</td>\n",
       "      <td>A81001</td>\n",
       "      <td>00K</td>\n",
       "      <td>0</td>\n",
       "      <td>3</td>\n",
       "      <td>0.00</td>\n",
       "      <td>0.00</td>\n",
       "    </tr>\n",
       "    <tr>\n",
       "      <th>3</th>\n",
       "      <td>2014-12-01</td>\n",
       "      <td>A81001</td>\n",
       "      <td>00K</td>\n",
       "      <td>0</td>\n",
       "      <td>2</td>\n",
       "      <td>0.00</td>\n",
       "      <td>0.00</td>\n",
       "    </tr>\n",
       "    <tr>\n",
       "      <th>4</th>\n",
       "      <td>2015-01-01</td>\n",
       "      <td>A81001</td>\n",
       "      <td>00K</td>\n",
       "      <td>0</td>\n",
       "      <td>2</td>\n",
       "      <td>0.00</td>\n",
       "      <td>0.00</td>\n",
       "    </tr>\n",
       "  </tbody>\n",
       "</table>\n",
       "</div>"
      ],
      "text/plain": [
       "       month practice_id  pct  numerator  denominator  calc_value  percentile\n",
       "0 2015-02-01      A81001  00K          0            2        0.00        0.00\n",
       "1 2015-03-01      A81001  00K          0            2        0.00        0.00\n",
       "2 2014-11-01      A81001  00K          0            3        0.00        0.00\n",
       "3 2014-12-01      A81001  00K          0            2        0.00        0.00\n",
       "4 2015-01-01      A81001  00K          0            2        0.00        0.00"
      ]
     },
     "execution_count": 3,
     "metadata": {},
     "output_type": "execute_result"
    }
   ],
   "source": [
    "sql='''\n",
    "SELECT\n",
    "  p.month,\n",
    "  practice_id,\n",
    "  p.pct_id,\n",
    "  numerator,\n",
    "  denominator,\n",
    "  calc_value,\n",
    "  percentile\n",
    "FROM\n",
    "  `ebmdatalab.measures.practice_data_ciclosporin` AS p\n",
    "INNER JOIN\n",
    "  ebmdatalab.hscic.practices AS prac\n",
    "ON\n",
    "  p.practice_id = prac.code\n",
    "JOIN\n",
    "  hscic.practice_statistics\n",
    "ON\n",
    "  practice_statistics.practice = prac.code\n",
    "WHERE\n",
    "  (setting = 4 \n",
    "  AND denominator > 0)\n",
    "GROUP BY\n",
    "p.month,\n",
    "practice_id,\n",
    "p.pct_id,\n",
    "numerator,\n",
    "denominator,\n",
    "calc_value,\n",
    "percentile\n",
    "'''\n",
    "\n",
    "df1a = bq.cached_read(sql, csv_path='df1a.csv', use_cache=True)\n",
    "df1a['month'] = pd.to_datetime(df1a['month'])\n",
    "df1a.rename(columns={'pct_id':'pct'}, inplace=True) ##prep for maps library whe  pct must be colum name\n",
    "df1a.head(5)\n"
   ]
  },
  {
   "cell_type": "code",
   "execution_count": 4,
   "metadata": {},
   "outputs": [
    {
     "data": {
      "text/html": [
       "<div>\n",
       "<style scoped>\n",
       "    .dataframe tbody tr th:only-of-type {\n",
       "        vertical-align: middle;\n",
       "    }\n",
       "\n",
       "    .dataframe tbody tr th {\n",
       "        vertical-align: top;\n",
       "    }\n",
       "\n",
       "    .dataframe thead th {\n",
       "        text-align: right;\n",
       "    }\n",
       "</style>\n",
       "<table border=\"1\" class=\"dataframe\">\n",
       "  <thead>\n",
       "    <tr style=\"text-align: right;\">\n",
       "      <th></th>\n",
       "      <th>month</th>\n",
       "      <th>practice_id</th>\n",
       "      <th>pct</th>\n",
       "      <th>numerator</th>\n",
       "      <th>denominator</th>\n",
       "      <th>calc_value</th>\n",
       "      <th>percentile</th>\n",
       "    </tr>\n",
       "  </thead>\n",
       "  <tbody>\n",
       "    <tr>\n",
       "      <th>6</th>\n",
       "      <td>2018-01-01</td>\n",
       "      <td>A81002</td>\n",
       "      <td>00K</td>\n",
       "      <td>0</td>\n",
       "      <td>5</td>\n",
       "      <td>0.00</td>\n",
       "      <td>0.00</td>\n",
       "    </tr>\n",
       "    <tr>\n",
       "      <th>7</th>\n",
       "      <td>2018-06-01</td>\n",
       "      <td>A81002</td>\n",
       "      <td>00K</td>\n",
       "      <td>0</td>\n",
       "      <td>3</td>\n",
       "      <td>0.00</td>\n",
       "      <td>0.00</td>\n",
       "    </tr>\n",
       "    <tr>\n",
       "      <th>16</th>\n",
       "      <td>2018-04-01</td>\n",
       "      <td>A81002</td>\n",
       "      <td>00K</td>\n",
       "      <td>0</td>\n",
       "      <td>4</td>\n",
       "      <td>0.00</td>\n",
       "      <td>0.00</td>\n",
       "    </tr>\n",
       "    <tr>\n",
       "      <th>18</th>\n",
       "      <td>2018-03-01</td>\n",
       "      <td>A81002</td>\n",
       "      <td>00K</td>\n",
       "      <td>0</td>\n",
       "      <td>3</td>\n",
       "      <td>0.00</td>\n",
       "      <td>0.00</td>\n",
       "    </tr>\n",
       "    <tr>\n",
       "      <th>20</th>\n",
       "      <td>2018-12-01</td>\n",
       "      <td>A81002</td>\n",
       "      <td>00K</td>\n",
       "      <td>0</td>\n",
       "      <td>3</td>\n",
       "      <td>0.00</td>\n",
       "      <td>0.00</td>\n",
       "    </tr>\n",
       "  </tbody>\n",
       "</table>\n",
       "</div>"
      ],
      "text/plain": [
       "        month practice_id  pct  numerator  denominator  calc_value  percentile\n",
       "6  2018-01-01      A81002  00K          0            5        0.00        0.00\n",
       "7  2018-06-01      A81002  00K          0            3        0.00        0.00\n",
       "16 2018-04-01      A81002  00K          0            4        0.00        0.00\n",
       "18 2018-03-01      A81002  00K          0            3        0.00        0.00\n",
       "20 2018-12-01      A81002  00K          0            3        0.00        0.00"
      ]
     },
     "execution_count": 4,
     "metadata": {},
     "output_type": "execute_result"
    }
   ],
   "source": [
    "df1a2018 = df1a.loc[(df1a[\"month\"]>= \"2018-01-01\") & (df1a[\"month\"]<=\"2018-12-01\")]\n",
    "df1a2018.head(5)"
   ]
  },
  {
   "cell_type": "code",
   "execution_count": 5,
   "metadata": {},
   "outputs": [
    {
     "data": {
      "text/html": [
       "<div>\n",
       "<style scoped>\n",
       "    .dataframe tbody tr th:only-of-type {\n",
       "        vertical-align: middle;\n",
       "    }\n",
       "\n",
       "    .dataframe tbody tr th {\n",
       "        vertical-align: top;\n",
       "    }\n",
       "\n",
       "    .dataframe thead th {\n",
       "        text-align: right;\n",
       "    }\n",
       "</style>\n",
       "<table border=\"1\" class=\"dataframe\">\n",
       "  <thead>\n",
       "    <tr style=\"text-align: right;\">\n",
       "      <th></th>\n",
       "      <th>numerator</th>\n",
       "      <th>denominator</th>\n",
       "      <th>calc_value</th>\n",
       "      <th>percentile</th>\n",
       "    </tr>\n",
       "  </thead>\n",
       "  <tbody>\n",
       "    <tr>\n",
       "      <th>count</th>\n",
       "      <td>49500.00</td>\n",
       "      <td>49500.00</td>\n",
       "      <td>49500.00</td>\n",
       "      <td>49500.00</td>\n",
       "    </tr>\n",
       "    <tr>\n",
       "      <th>mean</th>\n",
       "      <td>0.48</td>\n",
       "      <td>3.95</td>\n",
       "      <td>0.15</td>\n",
       "      <td>0.21</td>\n",
       "    </tr>\n",
       "    <tr>\n",
       "      <th>std</th>\n",
       "      <td>1.17</td>\n",
       "      <td>3.83</td>\n",
       "      <td>0.30</td>\n",
       "      <td>0.37</td>\n",
       "    </tr>\n",
       "    <tr>\n",
       "      <th>min</th>\n",
       "      <td>0.00</td>\n",
       "      <td>1.00</td>\n",
       "      <td>0.00</td>\n",
       "      <td>0.00</td>\n",
       "    </tr>\n",
       "    <tr>\n",
       "      <th>10%</th>\n",
       "      <td>0.00</td>\n",
       "      <td>1.00</td>\n",
       "      <td>0.00</td>\n",
       "      <td>0.00</td>\n",
       "    </tr>\n",
       "    <tr>\n",
       "      <th>50%</th>\n",
       "      <td>0.00</td>\n",
       "      <td>3.00</td>\n",
       "      <td>0.00</td>\n",
       "      <td>0.00</td>\n",
       "    </tr>\n",
       "    <tr>\n",
       "      <th>90%</th>\n",
       "      <td>2.00</td>\n",
       "      <td>8.00</td>\n",
       "      <td>0.67</td>\n",
       "      <td>0.89</td>\n",
       "    </tr>\n",
       "    <tr>\n",
       "      <th>max</th>\n",
       "      <td>65.00</td>\n",
       "      <td>66.00</td>\n",
       "      <td>1.00</td>\n",
       "      <td>0.93</td>\n",
       "    </tr>\n",
       "  </tbody>\n",
       "</table>\n",
       "</div>"
      ],
      "text/plain": [
       "       numerator  denominator  calc_value  percentile\n",
       "count   49500.00     49500.00    49500.00    49500.00\n",
       "mean        0.48         3.95        0.15        0.21\n",
       "std         1.17         3.83        0.30        0.37\n",
       "min         0.00         1.00        0.00        0.00\n",
       "10%         0.00         1.00        0.00        0.00\n",
       "50%         0.00         3.00        0.00        0.00\n",
       "90%         2.00         8.00        0.67        0.89\n",
       "max        65.00        66.00        1.00        0.93"
      ]
     },
     "execution_count": 5,
     "metadata": {},
     "output_type": "execute_result"
    }
   ],
   "source": [
    "df1a2018.describe(percentiles=(.1,.90))"
   ]
  },
  {
   "cell_type": "code",
   "execution_count": 6,
   "metadata": {},
   "outputs": [
    {
     "data": {
      "text/plain": [
       "numerator      23788.00\n",
       "denominator   195283.00\n",
       "calc_value      7201.04\n",
       "percentile     10577.02\n",
       "dtype: float64"
      ]
     },
     "execution_count": 6,
     "metadata": {},
     "output_type": "execute_result"
    }
   ],
   "source": [
    "df1a2018.sum(numeric_only=True)"
   ]
  },
  {
   "cell_type": "code",
   "execution_count": 7,
   "metadata": {},
   "outputs": [
    {
     "data": {
      "text/plain": [
       "5439"
      ]
     },
     "execution_count": 7,
     "metadata": {},
     "output_type": "execute_result"
    }
   ],
   "source": [
    "#number of practices in the dataset who prescribed at least one Rx \n",
    "df1a2018.practice_id.nunique()"
   ]
  },
  {
   "cell_type": "code",
   "execution_count": 8,
   "metadata": {},
   "outputs": [
    {
     "data": {
      "text/html": [
       "<div>\n",
       "<style scoped>\n",
       "    .dataframe tbody tr th:only-of-type {\n",
       "        vertical-align: middle;\n",
       "    }\n",
       "\n",
       "    .dataframe tbody tr th {\n",
       "        vertical-align: top;\n",
       "    }\n",
       "\n",
       "    .dataframe thead th {\n",
       "        text-align: right;\n",
       "    }\n",
       "</style>\n",
       "<table border=\"1\" class=\"dataframe\">\n",
       "  <thead>\n",
       "    <tr style=\"text-align: right;\">\n",
       "      <th></th>\n",
       "      <th>month</th>\n",
       "      <th>practice_id</th>\n",
       "      <th>pct</th>\n",
       "      <th>numerator</th>\n",
       "      <th>denominator</th>\n",
       "      <th>calc_value</th>\n",
       "      <th>percentile</th>\n",
       "    </tr>\n",
       "  </thead>\n",
       "  <tbody>\n",
       "    <tr>\n",
       "      <th>201218</th>\n",
       "      <td>2018-01-01</td>\n",
       "      <td>A89006</td>\n",
       "      <td>00P</td>\n",
       "      <td>1</td>\n",
       "      <td>16</td>\n",
       "      <td>0.06</td>\n",
       "      <td>0.74</td>\n",
       "    </tr>\n",
       "    <tr>\n",
       "      <th>201225</th>\n",
       "      <td>2018-10-01</td>\n",
       "      <td>B81062</td>\n",
       "      <td>02Y</td>\n",
       "      <td>1</td>\n",
       "      <td>16</td>\n",
       "      <td>0.06</td>\n",
       "      <td>0.75</td>\n",
       "    </tr>\n",
       "    <tr>\n",
       "      <th>201233</th>\n",
       "      <td>2018-04-01</td>\n",
       "      <td>B83014</td>\n",
       "      <td>02R</td>\n",
       "      <td>1</td>\n",
       "      <td>16</td>\n",
       "      <td>0.06</td>\n",
       "      <td>0.75</td>\n",
       "    </tr>\n",
       "    <tr>\n",
       "      <th>201235</th>\n",
       "      <td>2018-11-01</td>\n",
       "      <td>B83614</td>\n",
       "      <td>02W</td>\n",
       "      <td>1</td>\n",
       "      <td>16</td>\n",
       "      <td>0.06</td>\n",
       "      <td>0.77</td>\n",
       "    </tr>\n",
       "    <tr>\n",
       "      <th>201236</th>\n",
       "      <td>2018-06-01</td>\n",
       "      <td>B83614</td>\n",
       "      <td>02W</td>\n",
       "      <td>1</td>\n",
       "      <td>16</td>\n",
       "      <td>0.06</td>\n",
       "      <td>0.76</td>\n",
       "    </tr>\n",
       "  </tbody>\n",
       "</table>\n",
       "</div>"
      ],
      "text/plain": [
       "            month practice_id  pct  numerator  denominator  calc_value  \\\n",
       "201218 2018-01-01      A89006  00P          1           16        0.06   \n",
       "201225 2018-10-01      B81062  02Y          1           16        0.06   \n",
       "201233 2018-04-01      B83014  02R          1           16        0.06   \n",
       "201235 2018-11-01      B83614  02W          1           16        0.06   \n",
       "201236 2018-06-01      B83614  02W          1           16        0.06   \n",
       "\n",
       "        percentile  \n",
       "201218        0.74  \n",
       "201225        0.75  \n",
       "201233        0.75  \n",
       "201235        0.77  \n",
       "201236        0.76  "
      ]
     },
     "execution_count": 8,
     "metadata": {},
     "output_type": "execute_result"
    }
   ],
   "source": [
    "#now lets restrict to values where numerator is greater than 0 i.e. some generic Rxs\n",
    "breachciclo = df1a2018[df1a2018['numerator']>0]\n",
    "breachciclo.head()"
   ]
  },
  {
   "cell_type": "code",
   "execution_count": 9,
   "metadata": {},
   "outputs": [
    {
     "data": {
      "text/plain": [
       "2241"
      ]
     },
     "execution_count": 9,
     "metadata": {},
     "output_type": "execute_result"
    }
   ],
   "source": [
    "#the number of practices that breached the ciclosporin/tacrolimus in 2018 \n",
    "breachciclo.practice_id.nunique()"
   ]
  },
  {
   "cell_type": "code",
   "execution_count": 10,
   "metadata": {},
   "outputs": [
    {
     "data": {
      "text/plain": [
       "41.20242691671263"
      ]
     },
     "execution_count": 10,
     "metadata": {},
     "output_type": "execute_result"
    }
   ],
   "source": [
    "##calculate proprotion that breached\n",
    "breachciclo.practice_id.nunique()/df1a2018.practice_id.nunique()*100"
   ]
  },
  {
   "cell_type": "code",
   "execution_count": 11,
   "metadata": {},
   "outputs": [
    {
     "data": {
      "text/html": [
       "<div>\n",
       "<style scoped>\n",
       "    .dataframe tbody tr th:only-of-type {\n",
       "        vertical-align: middle;\n",
       "    }\n",
       "\n",
       "    .dataframe tbody tr th {\n",
       "        vertical-align: top;\n",
       "    }\n",
       "\n",
       "    .dataframe thead th {\n",
       "        text-align: right;\n",
       "    }\n",
       "</style>\n",
       "<table border=\"1\" class=\"dataframe\">\n",
       "  <thead>\n",
       "    <tr style=\"text-align: right;\">\n",
       "      <th></th>\n",
       "      <th>pct</th>\n",
       "      <th>numerator</th>\n",
       "      <th>denominator</th>\n",
       "      <th>calc_value</th>\n",
       "      <th>percentile</th>\n",
       "    </tr>\n",
       "  </thead>\n",
       "  <tbody>\n",
       "    <tr>\n",
       "      <th>0</th>\n",
       "      <td>00C</td>\n",
       "      <td>0</td>\n",
       "      <td>28</td>\n",
       "      <td>0.00</td>\n",
       "      <td>0.00</td>\n",
       "    </tr>\n",
       "    <tr>\n",
       "      <th>1</th>\n",
       "      <td>00D</td>\n",
       "      <td>11</td>\n",
       "      <td>149</td>\n",
       "      <td>0.07</td>\n",
       "      <td>2.66</td>\n",
       "    </tr>\n",
       "    <tr>\n",
       "      <th>2</th>\n",
       "      <td>00J</td>\n",
       "      <td>5</td>\n",
       "      <td>118</td>\n",
       "      <td>0.04</td>\n",
       "      <td>2.48</td>\n",
       "    </tr>\n",
       "    <tr>\n",
       "      <th>3</th>\n",
       "      <td>00K</td>\n",
       "      <td>3</td>\n",
       "      <td>39</td>\n",
       "      <td>0.08</td>\n",
       "      <td>2.63</td>\n",
       "    </tr>\n",
       "    <tr>\n",
       "      <th>4</th>\n",
       "      <td>00L</td>\n",
       "      <td>0</td>\n",
       "      <td>88</td>\n",
       "      <td>0.00</td>\n",
       "      <td>0.00</td>\n",
       "    </tr>\n",
       "  </tbody>\n",
       "</table>\n",
       "</div>"
      ],
      "text/plain": [
       "   pct  numerator  denominator  calc_value  percentile\n",
       "0  00C          0           28        0.00        0.00\n",
       "1  00D         11          149        0.07        2.66\n",
       "2  00J          5          118        0.04        2.48\n",
       "3  00K          3           39        0.08        2.63\n",
       "4  00L          0           88        0.00        0.00"
      ]
     },
     "execution_count": 11,
     "metadata": {},
     "output_type": "execute_result"
    }
   ],
   "source": [
    "###here we group for the map\n",
    "by_pct_df1a = df1a[df1a['month'] == \"2019-05-01\"].groupby('pct').sum().reset_index()\n",
    "by_pct_df1a['calc_value'] = by_pct_df1a['numerator'] / by_pct_df1a['denominator'] ##reclaculate the \"calc value\" as the groupby summed it\n",
    "by_pct_df1a.head(5)\n"
   ]
  },
  {
   "cell_type": "markdown",
   "metadata": {},
   "source": [
    "### 1b Diltiazem"
   ]
  },
  {
   "cell_type": "code",
   "execution_count": 12,
   "metadata": {},
   "outputs": [
    {
     "data": {
      "text/html": [
       "<div>\n",
       "<style scoped>\n",
       "    .dataframe tbody tr th:only-of-type {\n",
       "        vertical-align: middle;\n",
       "    }\n",
       "\n",
       "    .dataframe tbody tr th {\n",
       "        vertical-align: top;\n",
       "    }\n",
       "\n",
       "    .dataframe thead th {\n",
       "        text-align: right;\n",
       "    }\n",
       "</style>\n",
       "<table border=\"1\" class=\"dataframe\">\n",
       "  <thead>\n",
       "    <tr style=\"text-align: right;\">\n",
       "      <th></th>\n",
       "      <th>month</th>\n",
       "      <th>practice_id</th>\n",
       "      <th>pct</th>\n",
       "      <th>numerator</th>\n",
       "      <th>denominator</th>\n",
       "      <th>calc_value</th>\n",
       "      <th>percentile</th>\n",
       "    </tr>\n",
       "  </thead>\n",
       "  <tbody>\n",
       "    <tr>\n",
       "      <th>0</th>\n",
       "      <td>2016-03-01</td>\n",
       "      <td>A81001</td>\n",
       "      <td>00K</td>\n",
       "      <td>3</td>\n",
       "      <td>16</td>\n",
       "      <td>0.19</td>\n",
       "      <td>0.65</td>\n",
       "    </tr>\n",
       "    <tr>\n",
       "      <th>1</th>\n",
       "      <td>2016-06-01</td>\n",
       "      <td>A81001</td>\n",
       "      <td>00K</td>\n",
       "      <td>1</td>\n",
       "      <td>13</td>\n",
       "      <td>0.08</td>\n",
       "      <td>0.45</td>\n",
       "    </tr>\n",
       "    <tr>\n",
       "      <th>2</th>\n",
       "      <td>2016-01-01</td>\n",
       "      <td>A81002</td>\n",
       "      <td>00K</td>\n",
       "      <td>2</td>\n",
       "      <td>87</td>\n",
       "      <td>0.02</td>\n",
       "      <td>0.31</td>\n",
       "    </tr>\n",
       "    <tr>\n",
       "      <th>3</th>\n",
       "      <td>2018-11-01</td>\n",
       "      <td>A81002</td>\n",
       "      <td>00K</td>\n",
       "      <td>2</td>\n",
       "      <td>86</td>\n",
       "      <td>0.02</td>\n",
       "      <td>0.36</td>\n",
       "    </tr>\n",
       "    <tr>\n",
       "      <th>4</th>\n",
       "      <td>2015-09-01</td>\n",
       "      <td>A81002</td>\n",
       "      <td>00K</td>\n",
       "      <td>7</td>\n",
       "      <td>96</td>\n",
       "      <td>0.07</td>\n",
       "      <td>0.42</td>\n",
       "    </tr>\n",
       "  </tbody>\n",
       "</table>\n",
       "</div>"
      ],
      "text/plain": [
       "       month practice_id  pct  numerator  denominator  calc_value  percentile\n",
       "0 2016-03-01      A81001  00K          3           16        0.19        0.65\n",
       "1 2016-06-01      A81001  00K          1           13        0.08        0.45\n",
       "2 2016-01-01      A81002  00K          2           87        0.02        0.31\n",
       "3 2018-11-01      A81002  00K          2           86        0.02        0.36\n",
       "4 2015-09-01      A81002  00K          7           96        0.07        0.42"
      ]
     },
     "execution_count": 12,
     "metadata": {},
     "output_type": "execute_result"
    }
   ],
   "source": [
    "sql='''\n",
    "SELECT\n",
    "  p.month,\n",
    "  practice_id,\n",
    "  p.pct_id,\n",
    "  numerator,\n",
    "  denominator,\n",
    "  calc_value,\n",
    "  percentile\n",
    "FROM\n",
    "  ebmdatalab.measures.practice_data_diltiazem AS p\n",
    "INNER JOIN\n",
    "  ebmdatalab.hscic.practices AS prac\n",
    "ON\n",
    "  p.practice_id = prac.code\n",
    "JOIN\n",
    "  hscic.practice_statistics\n",
    "ON\n",
    "  practice_statistics.practice = prac.code\n",
    "WHERE\n",
    "  (setting = 4  ##need to add prac = 4 here\n",
    "    AND denominator > 0)\n",
    "GROUP BY\n",
    "  p.month,\n",
    "  practice_id,\n",
    "  p.pct_id,\n",
    "  numerator,\n",
    "  denominator,\n",
    "  calc_value,\n",
    "  percentile\n",
    "'''\n",
    "\n",
    "df1b = bq.cached_read(sql, csv_path='diltiazem.csv', use_cache=True)\n",
    "df1b['month'] = pd.to_datetime(df1b['month'])\n",
    "df1b.rename(columns={'pct_id':'pct'}, inplace=True) ##prep for maps library whe  pct must be colum name\n",
    "df1b.head(5)"
   ]
  },
  {
   "cell_type": "code",
   "execution_count": 13,
   "metadata": {},
   "outputs": [
    {
     "data": {
      "text/html": [
       "<div>\n",
       "<style scoped>\n",
       "    .dataframe tbody tr th:only-of-type {\n",
       "        vertical-align: middle;\n",
       "    }\n",
       "\n",
       "    .dataframe tbody tr th {\n",
       "        vertical-align: top;\n",
       "    }\n",
       "\n",
       "    .dataframe thead th {\n",
       "        text-align: right;\n",
       "    }\n",
       "</style>\n",
       "<table border=\"1\" class=\"dataframe\">\n",
       "  <thead>\n",
       "    <tr style=\"text-align: right;\">\n",
       "      <th></th>\n",
       "      <th>month</th>\n",
       "      <th>practice_id</th>\n",
       "      <th>pct</th>\n",
       "      <th>numerator</th>\n",
       "      <th>denominator</th>\n",
       "      <th>calc_value</th>\n",
       "      <th>percentile</th>\n",
       "    </tr>\n",
       "  </thead>\n",
       "  <tbody>\n",
       "    <tr>\n",
       "      <th>3</th>\n",
       "      <td>2018-11-01</td>\n",
       "      <td>A81002</td>\n",
       "      <td>00K</td>\n",
       "      <td>2</td>\n",
       "      <td>86</td>\n",
       "      <td>0.02</td>\n",
       "      <td>0.36</td>\n",
       "    </tr>\n",
       "    <tr>\n",
       "      <th>5</th>\n",
       "      <td>2018-06-01</td>\n",
       "      <td>A81002</td>\n",
       "      <td>00K</td>\n",
       "      <td>5</td>\n",
       "      <td>85</td>\n",
       "      <td>0.06</td>\n",
       "      <td>0.45</td>\n",
       "    </tr>\n",
       "    <tr>\n",
       "      <th>6</th>\n",
       "      <td>2018-04-01</td>\n",
       "      <td>A81002</td>\n",
       "      <td>00K</td>\n",
       "      <td>2</td>\n",
       "      <td>79</td>\n",
       "      <td>0.03</td>\n",
       "      <td>0.37</td>\n",
       "    </tr>\n",
       "    <tr>\n",
       "      <th>8</th>\n",
       "      <td>2018-09-01</td>\n",
       "      <td>A81002</td>\n",
       "      <td>00K</td>\n",
       "      <td>4</td>\n",
       "      <td>86</td>\n",
       "      <td>0.05</td>\n",
       "      <td>0.43</td>\n",
       "    </tr>\n",
       "    <tr>\n",
       "      <th>11</th>\n",
       "      <td>2018-12-01</td>\n",
       "      <td>A81002</td>\n",
       "      <td>00K</td>\n",
       "      <td>5</td>\n",
       "      <td>106</td>\n",
       "      <td>0.05</td>\n",
       "      <td>0.43</td>\n",
       "    </tr>\n",
       "  </tbody>\n",
       "</table>\n",
       "</div>"
      ],
      "text/plain": [
       "        month practice_id  pct  numerator  denominator  calc_value  percentile\n",
       "3  2018-11-01      A81002  00K          2           86        0.02        0.36\n",
       "5  2018-06-01      A81002  00K          5           85        0.06        0.45\n",
       "6  2018-04-01      A81002  00K          2           79        0.03        0.37\n",
       "8  2018-09-01      A81002  00K          4           86        0.05        0.43\n",
       "11 2018-12-01      A81002  00K          5          106        0.05        0.43"
      ]
     },
     "execution_count": 13,
     "metadata": {},
     "output_type": "execute_result"
    }
   ],
   "source": [
    "df1b2018 = df1b.loc[(df1b[\"month\"]>= \"2018-01-01\") & (df1b[\"month\"]<=\"2018-12-01\")]\n",
    "df1b2018.head(5)"
   ]
  },
  {
   "cell_type": "code",
   "execution_count": 14,
   "metadata": {},
   "outputs": [
    {
     "data": {
      "text/html": [
       "<div>\n",
       "<style scoped>\n",
       "    .dataframe tbody tr th:only-of-type {\n",
       "        vertical-align: middle;\n",
       "    }\n",
       "\n",
       "    .dataframe tbody tr th {\n",
       "        vertical-align: top;\n",
       "    }\n",
       "\n",
       "    .dataframe thead th {\n",
       "        text-align: right;\n",
       "    }\n",
       "</style>\n",
       "<table border=\"1\" class=\"dataframe\">\n",
       "  <thead>\n",
       "    <tr style=\"text-align: right;\">\n",
       "      <th></th>\n",
       "      <th>numerator</th>\n",
       "      <th>denominator</th>\n",
       "      <th>calc_value</th>\n",
       "      <th>percentile</th>\n",
       "    </tr>\n",
       "  </thead>\n",
       "  <tbody>\n",
       "    <tr>\n",
       "      <th>count</th>\n",
       "      <td>83788.00</td>\n",
       "      <td>83788.00</td>\n",
       "      <td>83788.00</td>\n",
       "      <td>83788.00</td>\n",
       "    </tr>\n",
       "    <tr>\n",
       "      <th>mean</th>\n",
       "      <td>3.49</td>\n",
       "      <td>28.41</td>\n",
       "      <td>0.16</td>\n",
       "      <td>0.44</td>\n",
       "    </tr>\n",
       "    <tr>\n",
       "      <th>std</th>\n",
       "      <td>5.50</td>\n",
       "      <td>27.81</td>\n",
       "      <td>0.22</td>\n",
       "      <td>0.35</td>\n",
       "    </tr>\n",
       "    <tr>\n",
       "      <th>min</th>\n",
       "      <td>0.00</td>\n",
       "      <td>1.00</td>\n",
       "      <td>0.00</td>\n",
       "      <td>0.00</td>\n",
       "    </tr>\n",
       "    <tr>\n",
       "      <th>10%</th>\n",
       "      <td>0.00</td>\n",
       "      <td>5.00</td>\n",
       "      <td>0.00</td>\n",
       "      <td>0.00</td>\n",
       "    </tr>\n",
       "    <tr>\n",
       "      <th>50%</th>\n",
       "      <td>2.00</td>\n",
       "      <td>21.00</td>\n",
       "      <td>0.08</td>\n",
       "      <td>0.50</td>\n",
       "    </tr>\n",
       "    <tr>\n",
       "      <th>90%</th>\n",
       "      <td>9.00</td>\n",
       "      <td>60.00</td>\n",
       "      <td>0.47</td>\n",
       "      <td>0.90</td>\n",
       "    </tr>\n",
       "    <tr>\n",
       "      <th>max</th>\n",
       "      <td>118.00</td>\n",
       "      <td>384.00</td>\n",
       "      <td>1.00</td>\n",
       "      <td>0.99</td>\n",
       "    </tr>\n",
       "  </tbody>\n",
       "</table>\n",
       "</div>"
      ],
      "text/plain": [
       "       numerator  denominator  calc_value  percentile\n",
       "count   83788.00     83788.00    83788.00    83788.00\n",
       "mean        3.49        28.41        0.16        0.44\n",
       "std         5.50        27.81        0.22        0.35\n",
       "min         0.00         1.00        0.00        0.00\n",
       "10%         0.00         5.00        0.00        0.00\n",
       "50%         2.00        21.00        0.08        0.50\n",
       "90%         9.00        60.00        0.47        0.90\n",
       "max       118.00       384.00        1.00        0.99"
      ]
     },
     "execution_count": 14,
     "metadata": {},
     "output_type": "execute_result"
    }
   ],
   "source": [
    "df1b2018.describe(percentiles=(.1,.90))"
   ]
  },
  {
   "cell_type": "code",
   "execution_count": 15,
   "metadata": {},
   "outputs": [
    {
     "data": {
      "text/plain": [
       "numerator      292331.00\n",
       "denominator   2380128.00\n",
       "calc_value      13559.86\n",
       "percentile      37239.01\n",
       "dtype: float64"
      ]
     },
     "execution_count": 15,
     "metadata": {},
     "output_type": "execute_result"
    }
   ],
   "source": [
    "df1b2018.sum(numeric_only=True)"
   ]
  },
  {
   "cell_type": "code",
   "execution_count": 16,
   "metadata": {},
   "outputs": [
    {
     "data": {
      "text/plain": [
       "7186"
      ]
     },
     "execution_count": 16,
     "metadata": {},
     "output_type": "execute_result"
    }
   ],
   "source": [
    "#number of practices in the dataset who prescribed at least one Rx and have a list size >1000?\n",
    "df1b2018.practice_id.nunique()"
   ]
  },
  {
   "cell_type": "code",
   "execution_count": 17,
   "metadata": {},
   "outputs": [
    {
     "data": {
      "text/html": [
       "<div>\n",
       "<style scoped>\n",
       "    .dataframe tbody tr th:only-of-type {\n",
       "        vertical-align: middle;\n",
       "    }\n",
       "\n",
       "    .dataframe tbody tr th {\n",
       "        vertical-align: top;\n",
       "    }\n",
       "\n",
       "    .dataframe thead th {\n",
       "        text-align: right;\n",
       "    }\n",
       "</style>\n",
       "<table border=\"1\" class=\"dataframe\">\n",
       "  <thead>\n",
       "    <tr style=\"text-align: right;\">\n",
       "      <th></th>\n",
       "      <th>month</th>\n",
       "      <th>practice_id</th>\n",
       "      <th>pct</th>\n",
       "      <th>numerator</th>\n",
       "      <th>denominator</th>\n",
       "      <th>calc_value</th>\n",
       "      <th>percentile</th>\n",
       "    </tr>\n",
       "  </thead>\n",
       "  <tbody>\n",
       "    <tr>\n",
       "      <th>3</th>\n",
       "      <td>2018-11-01</td>\n",
       "      <td>A81002</td>\n",
       "      <td>00K</td>\n",
       "      <td>2</td>\n",
       "      <td>86</td>\n",
       "      <td>0.02</td>\n",
       "      <td>0.36</td>\n",
       "    </tr>\n",
       "    <tr>\n",
       "      <th>5</th>\n",
       "      <td>2018-06-01</td>\n",
       "      <td>A81002</td>\n",
       "      <td>00K</td>\n",
       "      <td>5</td>\n",
       "      <td>85</td>\n",
       "      <td>0.06</td>\n",
       "      <td>0.45</td>\n",
       "    </tr>\n",
       "    <tr>\n",
       "      <th>6</th>\n",
       "      <td>2018-04-01</td>\n",
       "      <td>A81002</td>\n",
       "      <td>00K</td>\n",
       "      <td>2</td>\n",
       "      <td>79</td>\n",
       "      <td>0.03</td>\n",
       "      <td>0.37</td>\n",
       "    </tr>\n",
       "    <tr>\n",
       "      <th>8</th>\n",
       "      <td>2018-09-01</td>\n",
       "      <td>A81002</td>\n",
       "      <td>00K</td>\n",
       "      <td>4</td>\n",
       "      <td>86</td>\n",
       "      <td>0.05</td>\n",
       "      <td>0.43</td>\n",
       "    </tr>\n",
       "    <tr>\n",
       "      <th>11</th>\n",
       "      <td>2018-12-01</td>\n",
       "      <td>A81002</td>\n",
       "      <td>00K</td>\n",
       "      <td>5</td>\n",
       "      <td>106</td>\n",
       "      <td>0.05</td>\n",
       "      <td>0.43</td>\n",
       "    </tr>\n",
       "  </tbody>\n",
       "</table>\n",
       "</div>"
      ],
      "text/plain": [
       "        month practice_id  pct  numerator  denominator  calc_value  percentile\n",
       "3  2018-11-01      A81002  00K          2           86        0.02        0.36\n",
       "5  2018-06-01      A81002  00K          5           85        0.06        0.45\n",
       "6  2018-04-01      A81002  00K          2           79        0.03        0.37\n",
       "8  2018-09-01      A81002  00K          4           86        0.05        0.43\n",
       "11 2018-12-01      A81002  00K          5          106        0.05        0.43"
      ]
     },
     "execution_count": 17,
     "metadata": {},
     "output_type": "execute_result"
    }
   ],
   "source": [
    "#now lets restrict to values where numerator is greater than 0 i.e. some generic Rxs\n",
    "breachdilt = df1b2018[df1b2018['numerator']>0]\n",
    "breachdilt.head()"
   ]
  },
  {
   "cell_type": "code",
   "execution_count": 18,
   "metadata": {},
   "outputs": [
    {
     "data": {
      "text/plain": [
       "5777"
      ]
     },
     "execution_count": 18,
     "metadata": {},
     "output_type": "execute_result"
    }
   ],
   "source": [
    "#the number of practices that breached the diltiazem in 2018 \n",
    "breachdilt.practice_id.nunique()"
   ]
  },
  {
   "cell_type": "code",
   "execution_count": 19,
   "metadata": {},
   "outputs": [
    {
     "data": {
      "text/plain": [
       "80.39242972446424"
      ]
     },
     "execution_count": 19,
     "metadata": {},
     "output_type": "execute_result"
    }
   ],
   "source": [
    "#calulate proportion of practices that breached\n",
    "breachdilt.practice_id.nunique()/df1b2018.practice_id.nunique()*100"
   ]
  },
  {
   "cell_type": "code",
   "execution_count": 20,
   "metadata": {},
   "outputs": [
    {
     "data": {
      "text/plain": [
       "numerator      316119.00\n",
       "denominator   2575411.00\n",
       "calc_value      20760.90\n",
       "percentile      47816.03\n",
       "dtype: float64"
      ]
     },
     "execution_count": 20,
     "metadata": {},
     "output_type": "execute_result"
    }
   ],
   "source": [
    "### here we calculate totals on both measures\n",
    "total = df1a2018.sum(numeric_only=True) +df1b2018.sum(numeric_only=True)\n",
    "total"
   ]
  },
  {
   "cell_type": "code",
   "execution_count": 21,
   "metadata": {},
   "outputs": [
    {
     "data": {
      "text/plain": [
       "12.27450686511784"
      ]
     },
     "execution_count": 21,
     "metadata": {},
     "output_type": "execute_result"
    }
   ],
   "source": [
    "## calculate proprotion of scrips in numerator from total prescritpions\n",
    "(total['numerator'] / total['denominator'])*100"
   ]
  },
  {
   "cell_type": "code",
   "execution_count": 22,
   "metadata": {},
   "outputs": [
    {
     "data": {
      "text/html": [
       "<div>\n",
       "<style scoped>\n",
       "    .dataframe tbody tr th:only-of-type {\n",
       "        vertical-align: middle;\n",
       "    }\n",
       "\n",
       "    .dataframe tbody tr th {\n",
       "        vertical-align: top;\n",
       "    }\n",
       "\n",
       "    .dataframe thead th {\n",
       "        text-align: right;\n",
       "    }\n",
       "</style>\n",
       "<table border=\"1\" class=\"dataframe\">\n",
       "  <thead>\n",
       "    <tr style=\"text-align: right;\">\n",
       "      <th></th>\n",
       "      <th>pct</th>\n",
       "      <th>numerator</th>\n",
       "      <th>denominator</th>\n",
       "      <th>calc_value</th>\n",
       "      <th>percentile</th>\n",
       "    </tr>\n",
       "  </thead>\n",
       "  <tbody>\n",
       "    <tr>\n",
       "      <th>0</th>\n",
       "      <td>00C</td>\n",
       "      <td>2</td>\n",
       "      <td>386</td>\n",
       "      <td>0.01</td>\n",
       "      <td>0.45</td>\n",
       "    </tr>\n",
       "    <tr>\n",
       "      <th>1</th>\n",
       "      <td>00D</td>\n",
       "      <td>82</td>\n",
       "      <td>1746</td>\n",
       "      <td>0.05</td>\n",
       "      <td>8.76</td>\n",
       "    </tr>\n",
       "    <tr>\n",
       "      <th>2</th>\n",
       "      <td>00J</td>\n",
       "      <td>74</td>\n",
       "      <td>1197</td>\n",
       "      <td>0.06</td>\n",
       "      <td>11.04</td>\n",
       "    </tr>\n",
       "    <tr>\n",
       "      <th>3</th>\n",
       "      <td>00K</td>\n",
       "      <td>69</td>\n",
       "      <td>1645</td>\n",
       "      <td>0.04</td>\n",
       "      <td>11.04</td>\n",
       "    </tr>\n",
       "    <tr>\n",
       "      <th>4</th>\n",
       "      <td>00L</td>\n",
       "      <td>80</td>\n",
       "      <td>2433</td>\n",
       "      <td>0.03</td>\n",
       "      <td>9.66</td>\n",
       "    </tr>\n",
       "  </tbody>\n",
       "</table>\n",
       "</div>"
      ],
      "text/plain": [
       "   pct  numerator  denominator  calc_value  percentile\n",
       "0  00C          2          386        0.01        0.45\n",
       "1  00D         82         1746        0.05        8.76\n",
       "2  00J         74         1197        0.06       11.04\n",
       "3  00K         69         1645        0.04       11.04\n",
       "4  00L         80         2433        0.03        9.66"
      ]
     },
     "execution_count": 22,
     "metadata": {},
     "output_type": "execute_result"
    }
   ],
   "source": [
    "###here we group for the map\n",
    "by_pct_df1b = df1b[df1b['month'] == \"2019-05-01\"].groupby('pct').sum().reset_index()\n",
    "by_pct_df1b['calc_value'] = by_pct_df1b['numerator'] / by_pct_df1b['denominator'] ##reclaculate the \"calc value\" as the groupby summed it\n",
    "by_pct_df1b.head(5)"
   ]
  },
  {
   "cell_type": "markdown",
   "metadata": {},
   "source": [
    "# Part 2: EHR Work"
   ]
  },
  {
   "cell_type": "code",
   "execution_count": 23,
   "metadata": {},
   "outputs": [],
   "source": [
    "##Importing GP EHR Deployment Data\n",
    "###this will need cleaning up? Seb/ALex?\n",
    "vendors = pd.read_csv('vendors.csv')\n",
    "# Clean up the input data\n",
    "vendors['Principal Supplier'] = vendors['Principal Supplier'].str.strip()\n",
    "vendors.loc[vendors['Principal Supplier'] == 'INPS', 'Principal Supplier'] = 'Vision'  # seems they changed in 2017\n",
    "vendors = vendors.loc[vendors['Date'] > '2016-02-01']  # there is some dirty data (\"Unknowns\") before this\n",
    "\n",
    "start = pd.to_datetime('2016-01-01')\n",
    "mid = pd.to_datetime('2017-01-01')\n",
    "end = pd.to_datetime('2018-12-01')"
   ]
  },
  {
   "cell_type": "markdown",
   "metadata": {},
   "source": [
    "## 2a ciclosporin and tacrolimus measure data linked to EHR provider"
   ]
  },
  {
   "cell_type": "code",
   "execution_count": 24,
   "metadata": {},
   "outputs": [
    {
     "data": {
      "text/html": [
       "<div>\n",
       "<style scoped>\n",
       "    .dataframe tbody tr th:only-of-type {\n",
       "        vertical-align: middle;\n",
       "    }\n",
       "\n",
       "    .dataframe tbody tr th {\n",
       "        vertical-align: top;\n",
       "    }\n",
       "\n",
       "    .dataframe thead th {\n",
       "        text-align: right;\n",
       "    }\n",
       "</style>\n",
       "<table border=\"1\" class=\"dataframe\">\n",
       "  <thead>\n",
       "    <tr style=\"text-align: right;\">\n",
       "      <th></th>\n",
       "      <th>supplier</th>\n",
       "      <th>practice_id</th>\n",
       "      <th>pct</th>\n",
       "      <th>month</th>\n",
       "      <th>numerator</th>\n",
       "      <th>denominator</th>\n",
       "      <th>measure_id</th>\n",
       "    </tr>\n",
       "  </thead>\n",
       "  <tbody>\n",
       "    <tr>\n",
       "      <th>0</th>\n",
       "      <td>SystmOne</td>\n",
       "      <td>A81002</td>\n",
       "      <td>00K</td>\n",
       "      <td>2016-01-01</td>\n",
       "      <td>0</td>\n",
       "      <td>5</td>\n",
       "      <td>ciclosporin</td>\n",
       "    </tr>\n",
       "    <tr>\n",
       "      <th>1</th>\n",
       "      <td>SystmOne</td>\n",
       "      <td>A81004</td>\n",
       "      <td>00M</td>\n",
       "      <td>2016-01-01</td>\n",
       "      <td>0</td>\n",
       "      <td>6</td>\n",
       "      <td>ciclosporin</td>\n",
       "    </tr>\n",
       "    <tr>\n",
       "      <th>2</th>\n",
       "      <td>SystmOne</td>\n",
       "      <td>A81005</td>\n",
       "      <td>00M</td>\n",
       "      <td>2016-01-01</td>\n",
       "      <td>0</td>\n",
       "      <td>1</td>\n",
       "      <td>ciclosporin</td>\n",
       "    </tr>\n",
       "    <tr>\n",
       "      <th>3</th>\n",
       "      <td>SystmOne</td>\n",
       "      <td>A81006</td>\n",
       "      <td>00K</td>\n",
       "      <td>2016-01-01</td>\n",
       "      <td>0</td>\n",
       "      <td>3</td>\n",
       "      <td>ciclosporin</td>\n",
       "    </tr>\n",
       "    <tr>\n",
       "      <th>4</th>\n",
       "      <td>EMIS</td>\n",
       "      <td>A81007</td>\n",
       "      <td>00K</td>\n",
       "      <td>2016-01-01</td>\n",
       "      <td>0</td>\n",
       "      <td>1</td>\n",
       "      <td>ciclosporin</td>\n",
       "    </tr>\n",
       "  </tbody>\n",
       "</table>\n",
       "</div>"
      ],
      "text/plain": [
       "   supplier practice_id  pct       month  numerator  denominator   measure_id\n",
       "0  SystmOne      A81002  00K  2016-01-01          0            5  ciclosporin\n",
       "1  SystmOne      A81004  00M  2016-01-01          0            6  ciclosporin\n",
       "2  SystmOne      A81005  00M  2016-01-01          0            1  ciclosporin\n",
       "3  SystmOne      A81006  00K  2016-01-01          0            3  ciclosporin\n",
       "4      EMIS      A81007  00K  2016-01-01          0            1  ciclosporin"
      ]
     },
     "execution_count": 24,
     "metadata": {},
     "output_type": "execute_result"
    }
   ],
   "source": [
    "import importlib\n",
    "importlib.reload(bq)\n",
    "measures = ['ciclosporin']\n",
    "\n",
    "def get_data(measure_id):\n",
    "    sql = \"\"\"\n",
    "SELECT\n",
    "  TRIM(Principal_Supplier) AS supplier,\n",
    "  m.practice_id,\n",
    "  m.pct_id,\n",
    "  Date as month,\n",
    "  numerator,\n",
    "  denominator,\n",
    "  '{measure_id}' AS measure_id\n",
    "FROM\n",
    "  measures.practice_data_{measure_id} as m\n",
    "JOIN\n",
    "  ebmdatalab.alex.vendors as software #this is where the up to date vendors table is held\n",
    "ON\n",
    "  software.ODS = practice_id\n",
    "  AND DATE(Date) = m.month\n",
    "JOIN\n",
    "  hscic.practices\n",
    "ON\n",
    "  practices.code = software.ODS\n",
    "JOIN\n",
    "  hscic.practice_statistics\n",
    "ON\n",
    "  practice_statistics.practice = practices.code\n",
    "  AND Date = practice_statistics.month\n",
    "WHERE\n",
    "total_list_size > 100\n",
    "  AND practices.status_code = 'A'\n",
    "  AND denominator > 0\n",
    "  AND m.month <= \"2019-05-01\"\n",
    "ORDER BY\n",
    "  m.month\"\"\".format(measure_id=measure_id)\n",
    "    import pandas as pd\n",
    "    df = bq.cached_read(sql, csv_path=\"ciclosporintacro.csv\".format(measure_id))\n",
    "    return df\n",
    "\n",
    "\n",
    "df2a = get_data('ciclosporin')\n",
    "df2a = df2a.replace(['TPP'],'SystmOne')\n",
    "df2a = df2a.replace(['INPS'],'Vision')\n",
    "df2a = df2a[df2a.supplier != \"Unknown\"]\n",
    "df2a.rename(columns={'pct_id':'pct'}, inplace=True) ##prep for maps library whe  pct must be colum name\n",
    "df2a.head(5)"
   ]
  },
  {
   "cell_type": "code",
   "execution_count": 25,
   "metadata": {},
   "outputs": [],
   "source": [
    "df2a['calc_value'] = df2a['numerator'] / df2a['denominator']\n",
    "df2a['month'] = pd.to_datetime(df2a['month'])"
   ]
  },
  {
   "cell_type": "code",
   "execution_count": 26,
   "metadata": {},
   "outputs": [
    {
     "data": {
      "text/plain": [
       "Text(0, 0.5, 'proportion')"
      ]
     },
     "execution_count": 26,
     "metadata": {},
     "output_type": "execute_result"
    },
    {
     "data": {
      "image/png": "[encoded data removed]",
      "text/plain": [
       "<Figure size 432x288 with 1 Axes>"
      ]
     },
     "metadata": {
      "needs_background": "light"
     },
     "output_type": "display_data"
    }
   ],
   "source": [
    "ax = df2a.groupby(['month', 'supplier']).mean()['calc_value'].unstack().plot.line()\n",
    "plt.ylim(0, 0.25)\n",
    "plt.legend(loc=(1.04,0))\n",
    "plt.title(\" (a) Total items of generic ciclosporin and tacrolimus preparations  \\n as a proportion of total items of all ciclosporin and tacrolimus items by EHR\"),\n",
    "ax.set_ylabel(\"proportion\")"
   ]
  },
  {
   "cell_type": "code",
   "execution_count": 27,
   "metadata": {},
   "outputs": [
    {
     "data": {
      "text/plain": [
       "Text(0, 0.5, '%')"
      ]
     },
     "execution_count": 27,
     "metadata": {},
     "output_type": "execute_result"
    },
    {
     "data": {
      "image/png": "[encoded data removed]",
      "text/plain": [
       "<Figure size 432x288 with 1 Axes>"
      ]
     },
     "metadata": {
      "needs_background": "light"
     },
     "output_type": "display_data"
    }
   ],
   "source": [
    "###here we reformat graph to express in term of percentage\n",
    "ax = df2a.groupby(['month', 'supplier']).mean()['calc_value']\n",
    "ax = ax*100\n",
    "ax = ax.unstack().plot.line()\n",
    "plt.ylim(0, 28)\n",
    "plt.legend(loc=(1.04,0))\n",
    "plt.title(\" (a) Total items of generic ciclosporin and tacrolimus preparations  \\n as a percentage of total items of all ciclosporin and tacrolimus items by EHR\"),\n",
    "ax.set_ylabel(\"%\")"
   ]
  },
  {
   "cell_type": "code",
   "execution_count": 28,
   "metadata": {},
   "outputs": [
    {
     "data": {
      "text/html": [
       "<div>\n",
       "<style scoped>\n",
       "    .dataframe tbody tr th:only-of-type {\n",
       "        vertical-align: middle;\n",
       "    }\n",
       "\n",
       "    .dataframe tbody tr th {\n",
       "        vertical-align: top;\n",
       "    }\n",
       "\n",
       "    .dataframe thead th {\n",
       "        text-align: right;\n",
       "    }\n",
       "</style>\n",
       "<table border=\"1\" class=\"dataframe\">\n",
       "  <thead>\n",
       "    <tr style=\"text-align: right;\">\n",
       "      <th></th>\n",
       "      <th>month</th>\n",
       "      <th>pct</th>\n",
       "      <th>numerator</th>\n",
       "      <th>denominator</th>\n",
       "      <th>calc_value</th>\n",
       "    </tr>\n",
       "  </thead>\n",
       "  <tbody>\n",
       "    <tr>\n",
       "      <th>0</th>\n",
       "      <td>2016-01-01</td>\n",
       "      <td>00C</td>\n",
       "      <td>2</td>\n",
       "      <td>47</td>\n",
       "      <td>0.37</td>\n",
       "    </tr>\n",
       "    <tr>\n",
       "      <th>1</th>\n",
       "      <td>2016-01-01</td>\n",
       "      <td>00D</td>\n",
       "      <td>10</td>\n",
       "      <td>194</td>\n",
       "      <td>2.87</td>\n",
       "    </tr>\n",
       "    <tr>\n",
       "      <th>2</th>\n",
       "      <td>2016-01-01</td>\n",
       "      <td>00J</td>\n",
       "      <td>19</td>\n",
       "      <td>177</td>\n",
       "      <td>3.33</td>\n",
       "    </tr>\n",
       "    <tr>\n",
       "      <th>3</th>\n",
       "      <td>2016-01-01</td>\n",
       "      <td>00K</td>\n",
       "      <td>14</td>\n",
       "      <td>77</td>\n",
       "      <td>2.88</td>\n",
       "    </tr>\n",
       "    <tr>\n",
       "      <th>4</th>\n",
       "      <td>2016-01-01</td>\n",
       "      <td>00L</td>\n",
       "      <td>1</td>\n",
       "      <td>174</td>\n",
       "      <td>1.00</td>\n",
       "    </tr>\n",
       "  </tbody>\n",
       "</table>\n",
       "</div>"
      ],
      "text/plain": [
       "       month  pct  numerator  denominator  calc_value\n",
       "0 2016-01-01  00C          2           47        0.37\n",
       "1 2016-01-01  00D         10          194        2.87\n",
       "2 2016-01-01  00J         19          177        3.33\n",
       "3 2016-01-01  00K         14           77        2.88\n",
       "4 2016-01-01  00L          1          174        1.00"
      ]
     },
     "execution_count": 28,
     "metadata": {},
     "output_type": "execute_result"
    }
   ],
   "source": [
    "dfccg = df2a.groupby(['month','pct']).sum().reset_index()\n",
    "dfccg.head(5)"
   ]
  },
  {
   "cell_type": "markdown",
   "metadata": {},
   "source": [
    "### 2b - Diltiazem linked with EHR"
   ]
  },
  {
   "cell_type": "code",
   "execution_count": 29,
   "metadata": {},
   "outputs": [
    {
     "data": {
      "text/html": [
       "<div>\n",
       "<style scoped>\n",
       "    .dataframe tbody tr th:only-of-type {\n",
       "        vertical-align: middle;\n",
       "    }\n",
       "\n",
       "    .dataframe tbody tr th {\n",
       "        vertical-align: top;\n",
       "    }\n",
       "\n",
       "    .dataframe thead th {\n",
       "        text-align: right;\n",
       "    }\n",
       "</style>\n",
       "<table border=\"1\" class=\"dataframe\">\n",
       "  <thead>\n",
       "    <tr style=\"text-align: right;\">\n",
       "      <th></th>\n",
       "      <th>supplier</th>\n",
       "      <th>practice_id</th>\n",
       "      <th>pct</th>\n",
       "      <th>month</th>\n",
       "      <th>numerator</th>\n",
       "      <th>denominator</th>\n",
       "      <th>measure_id</th>\n",
       "    </tr>\n",
       "  </thead>\n",
       "  <tbody>\n",
       "    <tr>\n",
       "      <th>0</th>\n",
       "      <td>SystmOne</td>\n",
       "      <td>A81002</td>\n",
       "      <td>00K</td>\n",
       "      <td>2016-01-01</td>\n",
       "      <td>2</td>\n",
       "      <td>87</td>\n",
       "      <td>diltiazem</td>\n",
       "    </tr>\n",
       "    <tr>\n",
       "      <th>1</th>\n",
       "      <td>SystmOne</td>\n",
       "      <td>A81006</td>\n",
       "      <td>00K</td>\n",
       "      <td>2016-01-01</td>\n",
       "      <td>3</td>\n",
       "      <td>103</td>\n",
       "      <td>diltiazem</td>\n",
       "    </tr>\n",
       "    <tr>\n",
       "      <th>2</th>\n",
       "      <td>EMIS</td>\n",
       "      <td>A81007</td>\n",
       "      <td>00K</td>\n",
       "      <td>2016-01-01</td>\n",
       "      <td>14</td>\n",
       "      <td>109</td>\n",
       "      <td>diltiazem</td>\n",
       "    </tr>\n",
       "    <tr>\n",
       "      <th>3</th>\n",
       "      <td>SystmOne</td>\n",
       "      <td>A81009</td>\n",
       "      <td>00M</td>\n",
       "      <td>2016-01-01</td>\n",
       "      <td>3</td>\n",
       "      <td>44</td>\n",
       "      <td>diltiazem</td>\n",
       "    </tr>\n",
       "    <tr>\n",
       "      <th>4</th>\n",
       "      <td>SystmOne</td>\n",
       "      <td>A81012</td>\n",
       "      <td>00M</td>\n",
       "      <td>2016-01-01</td>\n",
       "      <td>1</td>\n",
       "      <td>14</td>\n",
       "      <td>diltiazem</td>\n",
       "    </tr>\n",
       "  </tbody>\n",
       "</table>\n",
       "</div>"
      ],
      "text/plain": [
       "   supplier practice_id  pct      month  numerator  denominator measure_id\n",
       "0  SystmOne      A81002  00K 2016-01-01          2           87  diltiazem\n",
       "1  SystmOne      A81006  00K 2016-01-01          3          103  diltiazem\n",
       "2      EMIS      A81007  00K 2016-01-01         14          109  diltiazem\n",
       "3  SystmOne      A81009  00M 2016-01-01          3           44  diltiazem\n",
       "4  SystmOne      A81012  00M 2016-01-01          1           14  diltiazem"
      ]
     },
     "execution_count": 29,
     "metadata": {},
     "output_type": "execute_result"
    }
   ],
   "source": [
    "importlib.reload(bq)\n",
    "measures = ['diltiazem']\n",
    "\n",
    "def get_data(measure_id):\n",
    "    sql = \"\"\"\n",
    "SELECT\n",
    "  TRIM(Principal_Supplier) AS supplier,\n",
    "  m.practice_id,\n",
    "  m.pct_id,\n",
    "  Date as month,\n",
    "  numerator,\n",
    "  denominator,\n",
    "  '{measure_id}' AS measure_id\n",
    "FROM\n",
    "  measures.practice_data_{measure_id} as m\n",
    "JOIN\n",
    "  ebmdatalab.alex.vendors as software #this is where the up to date vendors table is held\n",
    "ON\n",
    "  software.ODS = practice_id\n",
    "  AND DATE(Date) = m.month\n",
    "JOIN\n",
    "  hscic.practices\n",
    "ON\n",
    "  practices.code = software.ODS\n",
    "JOIN\n",
    "  hscic.practice_statistics\n",
    "ON\n",
    "  practice_statistics.practice = practices.code\n",
    "  AND Date = practice_statistics.month\n",
    "WHERE\n",
    "total_list_size > 100\n",
    "  AND practices.status_code = 'A'\n",
    "  AND denominator > 0\n",
    "  AND m.month <= \"2019-05-01\"\n",
    "ORDER BY\n",
    "  m.month\"\"\".format(measure_id=measure_id)\n",
    "    import pandas as pd\n",
    "    df2 = bq.cached_read(sql, csv_path=\"diltiazem.csv\".format(measure_id))\n",
    "    return df2\n",
    "\n",
    "\n",
    "df2b = get_data('diltiazem')\n",
    "df2b = df2b.replace(['TPP'],'SystmOne')\n",
    "df2b = df2b.replace(['INPS'],'Vision')\n",
    "df2b = df2b[df2b.supplier != \"Unknown\"]\n",
    "df2b.rename(columns={'pct_id':'pct'}, inplace=True) ##prep for maps library whe  pct must be colum name\n",
    "df2b.head(5)"
   ]
  },
  {
   "cell_type": "code",
   "execution_count": 30,
   "metadata": {},
   "outputs": [],
   "source": [
    "df2b['calc_value'] = df2b['numerator'] / df2b['denominator']\n",
    "df2b['month'] = pd.to_datetime(df2b['month'])"
   ]
  },
  {
   "cell_type": "code",
   "execution_count": 31,
   "metadata": {},
   "outputs": [
    {
     "data": {
      "text/plain": [
       "<bound method IndexOpsMixin.nunique of 0        2016-01-01\n",
       "1        2016-01-01\n",
       "2        2016-01-01\n",
       "3        2016-01-01\n",
       "4        2016-01-01\n",
       "            ...    \n",
       "266252   2019-05-01\n",
       "266253   2019-05-01\n",
       "266254   2019-05-01\n",
       "266255   2019-05-01\n",
       "266256   2019-05-01\n",
       "Name: month, Length: 266250, dtype: datetime64[ns]>"
      ]
     },
     "execution_count": 31,
     "metadata": {},
     "output_type": "execute_result"
    }
   ],
   "source": [
    "df2b.month.nunique"
   ]
  },
  {
   "cell_type": "code",
   "execution_count": 32,
   "metadata": {},
   "outputs": [
    {
     "data": {
      "text/plain": [
       "Text(0, 0.5, 'proportion')"
      ]
     },
     "execution_count": 32,
     "metadata": {},
     "output_type": "execute_result"
    },
    {
     "data": {
      "image/png": "[encoded data removed]",
      "text/plain": [
       "<Figure size 432x288 with 1 Axes>"
      ]
     },
     "metadata": {
      "needs_background": "light"
     },
     "output_type": "display_data"
    }
   ],
   "source": [
    "ax1 = df2b.groupby(['month', 'supplier']).mean()['calc_value'].unstack().plot.line()\n",
    "plt.legend(loc=(1.04,0))\n",
    "plt.title(\" (b) items of generic diltiazem modified-release preparations \\n as a proportion of total items of all diltiazem modified-release items (>60mg)\")\n",
    "ax1.set_ylabel(\"proportion\")"
   ]
  },
  {
   "cell_type": "code",
   "execution_count": 33,
   "metadata": {},
   "outputs": [
    {
     "data": {
      "text/plain": [
       "Text(0, 0.5, '%')"
      ]
     },
     "execution_count": 33,
     "metadata": {},
     "output_type": "execute_result"
    },
    {
     "data": {
      "image/png": "[encoded data removed]",
      "text/plain": [
       "<Figure size 432x288 with 1 Axes>"
      ]
     },
     "metadata": {
      "needs_background": "light"
     },
     "output_type": "display_data"
    }
   ],
   "source": [
    "## here we reformat the graph to express in terms of percentage\n",
    "ax1 = df2b.groupby(['month', 'supplier']).mean()['calc_value']\n",
    "ax1 = ax1*100\n",
    "ax1 = ax1.unstack().plot.line()\n",
    "plt.ylim(0, 28)\n",
    "plt.legend(loc=(1.04,0))\n",
    "plt.title(\" (b) items of generic diltiazem modified-release preparations \\n as a percentage of total items of all diltiazem modified-release items (>60mg)\")\n",
    "ax1.set_ylabel(\"%\")"
   ]
  },
  {
   "cell_type": "code",
   "execution_count": 34,
   "metadata": {},
   "outputs": [],
   "source": [
    "df2b.rename(columns={'pct_id':'pct'}, inplace=True)  # The CCG column must be named 'pct' for the maps function\n",
    "by_supplier_and_pct = df2b.groupby(['supplier', 'pct']).sum().reset_index()\n",
    "by_supplier_and_pct['calc_value'] = by_supplier_and_pct['numerator'] / by_supplier_and_pct['denominator']"
   ]
  },
  {
   "cell_type": "code",
   "execution_count": 35,
   "metadata": {},
   "outputs": [
    {
     "data": {
      "text/html": [
       "<div>\n",
       "<style scoped>\n",
       "    .dataframe tbody tr th:only-of-type {\n",
       "        vertical-align: middle;\n",
       "    }\n",
       "\n",
       "    .dataframe tbody tr th {\n",
       "        vertical-align: top;\n",
       "    }\n",
       "\n",
       "    .dataframe thead th {\n",
       "        text-align: right;\n",
       "    }\n",
       "</style>\n",
       "<table border=\"1\" class=\"dataframe\">\n",
       "  <thead>\n",
       "    <tr style=\"text-align: right;\">\n",
       "      <th></th>\n",
       "      <th>practice_id</th>\n",
       "      <th>supplier</th>\n",
       "    </tr>\n",
       "  </thead>\n",
       "  <tbody>\n",
       "    <tr>\n",
       "      <th>226267</th>\n",
       "      <td>A81002</td>\n",
       "      <td>SystmOne</td>\n",
       "    </tr>\n",
       "    <tr>\n",
       "      <th>226268</th>\n",
       "      <td>A81006</td>\n",
       "      <td>SystmOne</td>\n",
       "    </tr>\n",
       "    <tr>\n",
       "      <th>226269</th>\n",
       "      <td>A81007</td>\n",
       "      <td>EMIS</td>\n",
       "    </tr>\n",
       "    <tr>\n",
       "      <th>226270</th>\n",
       "      <td>A81009</td>\n",
       "      <td>SystmOne</td>\n",
       "    </tr>\n",
       "    <tr>\n",
       "      <th>226271</th>\n",
       "      <td>A81013</td>\n",
       "      <td>SystmOne</td>\n",
       "    </tr>\n",
       "  </tbody>\n",
       "</table>\n",
       "</div>"
      ],
      "text/plain": [
       "       practice_id  supplier\n",
       "226267      A81002  SystmOne\n",
       "226268      A81006  SystmOne\n",
       "226269      A81007      EMIS\n",
       "226270      A81009  SystmOne\n",
       "226271      A81013  SystmOne"
      ]
     },
     "execution_count": 35,
     "metadata": {},
     "output_type": "execute_result"
    }
   ],
   "source": [
    "epr_dec18 = df2b.loc[df2b['month']=='2018-12-01',['practice_id','supplier']]\n",
    "epr_dec18.head(5)"
   ]
  },
  {
   "cell_type": "code",
   "execution_count": 36,
   "metadata": {},
   "outputs": [
    {
     "data": {
      "text/html": [
       "<div>\n",
       "<style scoped>\n",
       "    .dataframe tbody tr th:only-of-type {\n",
       "        vertical-align: middle;\n",
       "    }\n",
       "\n",
       "    .dataframe tbody tr th {\n",
       "        vertical-align: top;\n",
       "    }\n",
       "\n",
       "    .dataframe thead th {\n",
       "        text-align: right;\n",
       "    }\n",
       "</style>\n",
       "<table border=\"1\" class=\"dataframe\">\n",
       "  <thead>\n",
       "    <tr style=\"text-align: right;\">\n",
       "      <th></th>\n",
       "      <th>practice_id</th>\n",
       "    </tr>\n",
       "    <tr>\n",
       "      <th>supplier</th>\n",
       "      <th></th>\n",
       "    </tr>\n",
       "  </thead>\n",
       "  <tbody>\n",
       "    <tr>\n",
       "      <th>EMIS</th>\n",
       "      <td>3888</td>\n",
       "    </tr>\n",
       "    <tr>\n",
       "      <th>Microtest</th>\n",
       "      <td>46</td>\n",
       "    </tr>\n",
       "    <tr>\n",
       "      <th>SystmOne</th>\n",
       "      <td>2448</td>\n",
       "    </tr>\n",
       "    <tr>\n",
       "      <th>Vision</th>\n",
       "      <td>283</td>\n",
       "    </tr>\n",
       "  </tbody>\n",
       "</table>\n",
       "</div>"
      ],
      "text/plain": [
       "           practice_id\n",
       "supplier              \n",
       "EMIS              3888\n",
       "Microtest           46\n",
       "SystmOne          2448\n",
       "Vision             283"
      ]
     },
     "execution_count": 36,
     "metadata": {},
     "output_type": "execute_result"
    }
   ],
   "source": [
    "## here we asess EHR deployment in 2018\n",
    "ehr_deployment = epr_dec18.groupby('supplier').count()\n",
    "ehr_deployment.head()"
   ]
  },
  {
   "cell_type": "markdown",
   "metadata": {},
   "source": [
    "Ghost Branded Generics can cause prescribing of brands to be \"hidden\" in prescribing data. We have written about it [extensively on our blog](https://ebmdatalab.net/ghost-branded-generics-why-does-the-cost-of-generic-atorvastatin-vary%EF%BB%BF/). Here we will check how many prescriptions could have been affected. "
   ]
  },
  {
   "cell_type": "code",
   "execution_count": 37,
   "metadata": {},
   "outputs": [
    {
     "data": {
      "text/html": [
       "<div>\n",
       "<style scoped>\n",
       "    .dataframe tbody tr th:only-of-type {\n",
       "        vertical-align: middle;\n",
       "    }\n",
       "\n",
       "    .dataframe tbody tr th {\n",
       "        vertical-align: top;\n",
       "    }\n",
       "\n",
       "    .dataframe thead th {\n",
       "        text-align: right;\n",
       "    }\n",
       "</style>\n",
       "<table border=\"1\" class=\"dataframe\">\n",
       "  <thead>\n",
       "    <tr style=\"text-align: right;\">\n",
       "      <th></th>\n",
       "      <th>month</th>\n",
       "      <th>pct</th>\n",
       "      <th>practice</th>\n",
       "      <th>items</th>\n",
       "    </tr>\n",
       "  </thead>\n",
       "  <tbody>\n",
       "    <tr>\n",
       "      <th>0</th>\n",
       "      <td>2016-03-01</td>\n",
       "      <td>06F</td>\n",
       "      <td>E81003</td>\n",
       "      <td>0</td>\n",
       "    </tr>\n",
       "    <tr>\n",
       "      <th>1</th>\n",
       "      <td>2016-03-01</td>\n",
       "      <td>06H</td>\n",
       "      <td>D81625</td>\n",
       "      <td>0</td>\n",
       "    </tr>\n",
       "    <tr>\n",
       "      <th>2</th>\n",
       "      <td>2016-03-01</td>\n",
       "      <td>07M</td>\n",
       "      <td>E83621</td>\n",
       "      <td>0</td>\n",
       "    </tr>\n",
       "    <tr>\n",
       "      <th>3</th>\n",
       "      <td>2016-02-01</td>\n",
       "      <td>04C</td>\n",
       "      <td>C82008</td>\n",
       "      <td>0</td>\n",
       "    </tr>\n",
       "    <tr>\n",
       "      <th>4</th>\n",
       "      <td>2016-02-01</td>\n",
       "      <td>15E</td>\n",
       "      <td>M85127</td>\n",
       "      <td>0</td>\n",
       "    </tr>\n",
       "  </tbody>\n",
       "</table>\n",
       "</div>"
      ],
      "text/plain": [
       "        month  pct practice  items\n",
       "0  2016-03-01  06F   E81003      0\n",
       "1  2016-03-01  06H   D81625      0\n",
       "2  2016-03-01  07M   E83621      0\n",
       "3  2016-02-01  04C   C82008      0\n",
       "4  2016-02-01  15E   M85127      0"
      ]
     },
     "execution_count": 37,
     "metadata": {},
     "output_type": "execute_result"
    }
   ],
   "source": [
    "sql= '''\n",
    "SELECT\n",
    "  DATE(month) AS month,\n",
    "  pct,\n",
    "  practice,\n",
    "  SUM(CASE\n",
    "      WHEN (possible_savings >= 2 OR possible_savings <=-2) THEN items\n",
    "    ELSE\n",
    "    0\n",
    "  END\n",
    "    ) AS items\n",
    "FROM\n",
    "  ebmdatalab.alex.vw__ghost_generic_measure_paper_2019_07\n",
    "INNER JOIN\n",
    "  ebmdatalab.hscic.practices\n",
    "ON\n",
    "  practice = code\n",
    "  AND setting = 4\n",
    "WHERE\n",
    "bnf_code LIKE '0802020G0%' OR ##Ciclosporin (Systemic) \n",
    "bnf_code LIKE '0802020T0%'  ##Tacrolimus (Systemic) \n",
    "GROUP BY\n",
    "  month,\n",
    "  pct,\n",
    "  practice'''\n",
    "\n",
    "df1a_gbg = bq.cached_read(sql, csv_path='gbg.tacro.ciclo.zip',use_cache=True)\n",
    "df1a_gbg.head(5)"
   ]
  },
  {
   "cell_type": "code",
   "execution_count": 38,
   "metadata": {},
   "outputs": [
    {
     "data": {
      "text/plain": [
       "items    3605\n",
       "dtype: int64"
      ]
     },
     "execution_count": 38,
     "metadata": {},
     "output_type": "execute_result"
    }
   ],
   "source": [
    "df1a_gbg.sum(numeric_only = True)"
   ]
  },
  {
   "cell_type": "code",
   "execution_count": 39,
   "metadata": {},
   "outputs": [
    {
     "data": {
      "text/plain": [
       "items    18\n",
       "dtype: int64"
      ]
     },
     "execution_count": 39,
     "metadata": {},
     "output_type": "execute_result"
    }
   ],
   "source": [
    "df1a_gbg.loc[(df1a_gbg[\"month\"]>= \"2018-01-01\") & (df1a_gbg[\"month\"]<=\"2018-12-01\")].sum(numeric_only = True)"
   ]
  },
  {
   "cell_type": "code",
   "execution_count": 40,
   "metadata": {},
   "outputs": [
    {
     "data": {
      "text/html": [
       "<div>\n",
       "<style scoped>\n",
       "    .dataframe tbody tr th:only-of-type {\n",
       "        vertical-align: middle;\n",
       "    }\n",
       "\n",
       "    .dataframe tbody tr th {\n",
       "        vertical-align: top;\n",
       "    }\n",
       "\n",
       "    .dataframe thead th {\n",
       "        text-align: right;\n",
       "    }\n",
       "</style>\n",
       "<table border=\"1\" class=\"dataframe\">\n",
       "  <thead>\n",
       "    <tr style=\"text-align: right;\">\n",
       "      <th></th>\n",
       "      <th>month</th>\n",
       "      <th>pct</th>\n",
       "      <th>practice</th>\n",
       "      <th>items</th>\n",
       "    </tr>\n",
       "  </thead>\n",
       "  <tbody>\n",
       "    <tr>\n",
       "      <th>0</th>\n",
       "      <td>2014-03-01</td>\n",
       "      <td>12F</td>\n",
       "      <td>N85016</td>\n",
       "      <td>0</td>\n",
       "    </tr>\n",
       "    <tr>\n",
       "      <th>1</th>\n",
       "      <td>2014-03-01</td>\n",
       "      <td>02F</td>\n",
       "      <td>N81081</td>\n",
       "      <td>0</td>\n",
       "    </tr>\n",
       "    <tr>\n",
       "      <th>2</th>\n",
       "      <td>2014-03-01</td>\n",
       "      <td>07T</td>\n",
       "      <td>F84719</td>\n",
       "      <td>0</td>\n",
       "    </tr>\n",
       "    <tr>\n",
       "      <th>3</th>\n",
       "      <td>2014-03-01</td>\n",
       "      <td>15E</td>\n",
       "      <td>M85045</td>\n",
       "      <td>0</td>\n",
       "    </tr>\n",
       "    <tr>\n",
       "      <th>4</th>\n",
       "      <td>2014-03-01</td>\n",
       "      <td>00X</td>\n",
       "      <td>P81082</td>\n",
       "      <td>0</td>\n",
       "    </tr>\n",
       "  </tbody>\n",
       "</table>\n",
       "</div>"
      ],
      "text/plain": [
       "        month  pct practice  items\n",
       "0  2014-03-01  12F   N85016      0\n",
       "1  2014-03-01  02F   N81081      0\n",
       "2  2014-03-01  07T   F84719      0\n",
       "3  2014-03-01  15E   M85045      0\n",
       "4  2014-03-01  00X   P81082      0"
      ]
     },
     "execution_count": 40,
     "metadata": {},
     "output_type": "execute_result"
    }
   ],
   "source": [
    "sql= '''\n",
    "SELECT\n",
    "  DATE(month) AS month,\n",
    "  pct,\n",
    "  practice,\n",
    "  SUM(CASE\n",
    "      WHEN (possible_savings >= 2 OR possible_savings <=-2) THEN items\n",
    "    ELSE\n",
    "    0\n",
    "  END\n",
    "    ) AS items\n",
    "FROM\n",
    "  ebmdatalab.alex.vw__ghost_generic_measure_paper_2019_07\n",
    "INNER JOIN\n",
    "  ebmdatalab.hscic.practices\n",
    "ON\n",
    "  practice = code\n",
    "  AND setting = 4\n",
    "WHERE\n",
    "  bnf_code LIKE '0206020C0%AB' OR --Diltiazem HCl_Tab 120mg C/R\n",
    "  bnf_code LIKE '0206020C0%AC' OR --Diltiazem HCl_Tab 90mg M/R \n",
    "  bnf_code LIKE '0206020C0%AD' OR --Diltiazem HCl_Tab 120mg S/R \n",
    "  bnf_code LIKE '0206020C0%AE' OR --Diltiazem HCl_Cap 300mg M/R \n",
    "  bnf_code LIKE '0206020C0%AF' OR --Diltiazem HCl_Cap 90mg C/R \n",
    "  bnf_code LIKE '0206020C0%AG' OR --Diltiazem HCl_Cap 180mg C/R \n",
    "  bnf_code LIKE '0206020C0%AH' OR --Diltiazem HCl_Cap 300mg C/R \n",
    "  bnf_code LIKE '0206020C0%AI' OR --Diltiazem HCl_Cap 120mg C/R \n",
    "  bnf_code LIKE '0206020C0%AK' OR --Diltiazem HCl_Cap 90mg S/R \n",
    "  bnf_code LIKE '0206020C0%AL' OR --Diltiazem HCl_Cap 120mg S/R \n",
    "  bnf_code LIKE '0206020C0%AM' OR --Diltiazem HCl_Cap 240mg C/R \n",
    "  bnf_code LIKE '0206020C0%AN' OR --Diltiazem HCl_Cap 180mg S/R \n",
    "  bnf_code LIKE '0206020C0%AP' OR --Diltiazem HCl_Cap 240mg S/R \n",
    "  bnf_code LIKE '0206020C0%AS' OR --Diltiazem HCl_Tab 120mg M/R \n",
    "  bnf_code LIKE '0206020C0%AT' OR --Diltiazem HCl_Cap 90mg M/R \n",
    "  bnf_code LIKE '0206020C0%AU' OR --Diltiazem HCl_Cap 120mg M/R \n",
    "  bnf_code LIKE '0206020C0%AV' OR --Diltiazem HCl_Cap 180mg M/R \n",
    "  bnf_code LIKE '0206020C0%AW' OR --Diltiazem HCl_Cap 240mg M/R \n",
    "  bnf_code LIKE '0206020C0%AX' OR --Diltiazem HCl_Cap 200mg M/R \n",
    "  bnf_code LIKE '0206020C0%AY' OR --Diltiazem HCl_Cap 240mg M/R \n",
    "  bnf_code LIKE '0206020C0%BA' --Diltiazem HCl_Cap 360mg M/R \n",
    "GROUP BY\n",
    "  month,\n",
    "  pct,\n",
    "  practice'''\n",
    "\n",
    "df1b_gbg = bq.cached_read(sql, csv_path='gbg.diltiazem.zip',use_cache=True)\n",
    "df1b_gbg.head(5)"
   ]
  },
  {
   "cell_type": "code",
   "execution_count": 41,
   "metadata": {},
   "outputs": [
    {
     "data": {
      "text/plain": [
       "items    2965\n",
       "dtype: int64"
      ]
     },
     "execution_count": 41,
     "metadata": {},
     "output_type": "execute_result"
    }
   ],
   "source": [
    "df1b_gbg.sum(numeric_only=True)"
   ]
  },
  {
   "cell_type": "code",
   "execution_count": 42,
   "metadata": {},
   "outputs": [
    {
     "data": {
      "text/plain": [
       "items    59\n",
       "dtype: int64"
      ]
     },
     "execution_count": 42,
     "metadata": {},
     "output_type": "execute_result"
    }
   ],
   "source": [
    "df1b_gbg.loc[(df1b_gbg[\"month\"]>= \"2018-01-01\") & (df1b_gbg[\"month\"]<=\"2018-12-01\")].sum(numeric_only = True)"
   ]
  },
  {
   "cell_type": "markdown",
   "metadata": {},
   "source": [
    " GBG does not appear to be a signifcant issue with these preparations. Cross referencing with dmd there does not apear to be AMPP that would cause this issue. [see diltiazem](https://openprescribing.net/dmd/?q=diltiazem&obj_types=ampp&submit=Search). GBGs appears to only be an issue with Diltiazem = 60mg"
   ]
  },
  {
   "cell_type": "code",
   "execution_count": null,
   "metadata": {},
   "outputs": [],
   "source": []
  }
 ],
 "metadata": {
  "kernelspec": {
   "display_name": "Python 3",
   "language": "python",
   "name": "python3"
  },
  "language_info": {
   "codemirror_mode": {
    "name": "ipython",
    "version": 3
   },
   "file_extension": ".py",
   "mimetype": "text/x-python",
   "name": "python",
   "nbconvert_exporter": "python",
   "pygments_lexer": "ipython3",
   "version": "3.6.10"
  }
 },
 "nbformat": 4,
 "nbformat_minor": 2
}
