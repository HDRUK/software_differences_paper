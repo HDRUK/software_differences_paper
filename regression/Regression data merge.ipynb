{
 "cells": [
  {
   "cell_type": "code",
   "execution_count": 1,
   "metadata": {},
   "outputs": [],
   "source": [
    "import pandas as pd\n",
    "import numpy as np\n",
    "from ebmdatalab import bq"
   ]
  },
  {
   "cell_type": "code",
   "execution_count": 2,
   "metadata": {},
   "outputs": [],
   "source": [
    "#%run -i \"GPSoC/make_csv.py\""
   ]
  },
  {
   "cell_type": "code",
   "execution_count": 3,
   "metadata": {
    "scrolled": true
   },
   "outputs": [
    {
     "name": "stdout",
     "output_type": "stream",
     "text": [
      "<class 'pandas.core.frame.DataFrame'>\n",
      "RangeIndex: 288100 entries, 0 to 288099\n",
      "Data columns (total 8 columns):\n",
      "supplier            288100 non-null object\n",
      "practice_id         288100 non-null object\n",
      "pct_id              288100 non-null object\n",
      "stp_id              288085 non-null object\n",
      "regional_team_id    288085 non-null object\n",
      "month               288100 non-null object\n",
      "numerator           288100 non-null int64\n",
      "denominator         288100 non-null int64\n",
      "dtypes: int64(2), object(6)\n",
      "memory usage: 17.6+ MB\n"
     ]
    }
   ],
   "source": [
    "def get_data(measures):\n",
    "    dfs = []\n",
    "    for measure_id in measures:\n",
    "        sql = \"\"\"\n",
    "        SELECT\n",
    "          TRIM(Principal_Supplier) AS supplier,\n",
    "          m.practice_id,\n",
    "          m.pct_id,\n",
    "          m.stp_id,\n",
    "          m.regional_team_id,\n",
    "          m.month,\n",
    "          numerator,\n",
    "          denominator\n",
    "          --'{measure_id}' AS measure_id\n",
    "        FROM\n",
    "          measures.practice_data_{measure_id} m\n",
    "        JOIN\n",
    "          alex.vendors software\n",
    "        ON\n",
    "          software.ODS = practice_id\n",
    "          AND Date = TIMESTAMP(m.month)\n",
    "        JOIN\n",
    "          hscic.practices\n",
    "        ON\n",
    "          practices.code = software.ODS\n",
    "        JOIN\n",
    "          hscic.practice_statistics\n",
    "        ON\n",
    "          practice_statistics.practice = practices.code\n",
    "          AND Date = practice_statistics.month\n",
    "        WHERE\n",
    "          practices.setting = 4\n",
    "          AND total_list_size > 100\n",
    "          AND practices.status_code = 'A'\n",
    "          AND denominator > 0\n",
    "        ORDER BY\n",
    "          month\"\"\".format(measure_id=measure_id)\n",
    "        df = bq.cached_read(sql, csv_path='{}.zip'.format(measure_id))\n",
    "        dfs.append(df)\n",
    "    return dfs\n",
    "\n",
    "measures = ['diltiazem','ciclosporin']\n",
    "measure_tables = get_data(measures)\n",
    "measure_tables[0].info()"
   ]
  },
  {
   "cell_type": "code",
   "execution_count": 4,
   "metadata": {},
   "outputs": [
    {
     "data": {
      "text/html": [
       "<div>\n",
       "<style scoped>\n",
       "    .dataframe tbody tr th:only-of-type {\n",
       "        vertical-align: middle;\n",
       "    }\n",
       "\n",
       "    .dataframe tbody tr th {\n",
       "        vertical-align: top;\n",
       "    }\n",
       "\n",
       "    .dataframe thead th {\n",
       "        text-align: right;\n",
       "    }\n",
       "</style>\n",
       "<table border=\"1\" class=\"dataframe\">\n",
       "  <thead>\n",
       "    <tr style=\"text-align: right;\">\n",
       "      <th></th>\n",
       "      <th>practice</th>\n",
       "      <th>pct</th>\n",
       "      <th>LSOA11NM</th>\n",
       "      <th>ruc11cd</th>\n",
       "      <th>RUC11</th>\n",
       "      <th>mean_percentile</th>\n",
       "      <th>num_gps_june</th>\n",
       "      <th>num_gps_sept</th>\n",
       "      <th>CL</th>\n",
       "      <th>PH</th>\n",
       "      <th>...</th>\n",
       "      <th>TOTAL</th>\n",
       "      <th>Value_imd</th>\n",
       "      <th>Value_satisfaction</th>\n",
       "      <th>Value_long_term_health</th>\n",
       "      <th>Value_over_65</th>\n",
       "      <th>Value_under_18</th>\n",
       "      <th>code</th>\n",
       "      <th>dispensing_patients</th>\n",
       "      <th>total_items</th>\n",
       "      <th>list_size</th>\n",
       "    </tr>\n",
       "  </thead>\n",
       "  <tbody>\n",
       "    <tr>\n",
       "      <th>0</th>\n",
       "      <td>A81001</td>\n",
       "      <td>00K</td>\n",
       "      <td>Stockton-on-Tees 014G</td>\n",
       "      <td>C</td>\n",
       "      <td>Urban city and town</td>\n",
       "      <td>0.446274</td>\n",
       "      <td>2.0</td>\n",
       "      <td>NaN</td>\n",
       "      <td>425.69</td>\n",
       "      <td>97.0</td>\n",
       "      <td>...</td>\n",
       "      <td>546.69</td>\n",
       "      <td>29.140310</td>\n",
       "      <td>83.627562</td>\n",
       "      <td>49.450467</td>\n",
       "      <td>23.323544</td>\n",
       "      <td>20.264317</td>\n",
       "      <td>A81001</td>\n",
       "      <td>0.0</td>\n",
       "      <td>94138.0</td>\n",
       "      <td>4097.083333</td>\n",
       "    </tr>\n",
       "    <tr>\n",
       "      <th>1</th>\n",
       "      <td>A81002</td>\n",
       "      <td>00K</td>\n",
       "      <td>Stockton-on-Tees 014F</td>\n",
       "      <td>C</td>\n",
       "      <td>Urban city and town</td>\n",
       "      <td>0.489142</td>\n",
       "      <td>12.0</td>\n",
       "      <td>12.0</td>\n",
       "      <td>435.00</td>\n",
       "      <td>97.0</td>\n",
       "      <td>...</td>\n",
       "      <td>559.00</td>\n",
       "      <td>29.689706</td>\n",
       "      <td>80.971049</td>\n",
       "      <td>58.535567</td>\n",
       "      <td>21.194615</td>\n",
       "      <td>18.908872</td>\n",
       "      <td>A81002</td>\n",
       "      <td>0.0</td>\n",
       "      <td>451497.0</td>\n",
       "      <td>19829.750000</td>\n",
       "    </tr>\n",
       "    <tr>\n",
       "      <th>2</th>\n",
       "      <td>A81003</td>\n",
       "      <td>00K</td>\n",
       "      <td>Hartlepool 007D</td>\n",
       "      <td>C</td>\n",
       "      <td>Urban city and town</td>\n",
       "      <td>NaN</td>\n",
       "      <td>NaN</td>\n",
       "      <td>NaN</td>\n",
       "      <td>425.34</td>\n",
       "      <td>97.0</td>\n",
       "      <td>...</td>\n",
       "      <td>549.34</td>\n",
       "      <td>NaN</td>\n",
       "      <td>NaN</td>\n",
       "      <td>NaN</td>\n",
       "      <td>NaN</td>\n",
       "      <td>NaN</td>\n",
       "      <td>NaN</td>\n",
       "      <td>NaN</td>\n",
       "      <td>NaN</td>\n",
       "      <td>NaN</td>\n",
       "    </tr>\n",
       "  </tbody>\n",
       "</table>\n",
       "<p>3 rows × 21 columns</p>\n",
       "</div>"
      ],
      "text/plain": [
       "  practice  pct               LSOA11NM ruc11cd                RUC11  \\\n",
       "0   A81001  00K  Stockton-on-Tees 014G       C  Urban city and town   \n",
       "1   A81002  00K  Stockton-on-Tees 014F       C  Urban city and town   \n",
       "2   A81003  00K        Hartlepool 007D       C  Urban city and town   \n",
       "\n",
       "   mean_percentile  num_gps_june  num_gps_sept      CL    PH  ...   TOTAL  \\\n",
       "0         0.446274           2.0           NaN  425.69  97.0  ...  546.69   \n",
       "1         0.489142          12.0          12.0  435.00  97.0  ...  559.00   \n",
       "2              NaN           NaN           NaN  425.34  97.0  ...  549.34   \n",
       "\n",
       "   Value_imd  Value_satisfaction  Value_long_term_health  Value_over_65  \\\n",
       "0  29.140310           83.627562               49.450467      23.323544   \n",
       "1  29.689706           80.971049               58.535567      21.194615   \n",
       "2        NaN                 NaN                     NaN            NaN   \n",
       "\n",
       "   Value_under_18    code dispensing_patients  total_items     list_size  \n",
       "0       20.264317  A81001                 0.0      94138.0   4097.083333  \n",
       "1       18.908872  A81002                 0.0     451497.0  19829.750000  \n",
       "2             NaN     NaN                 NaN          NaN           NaN  \n",
       "\n",
       "[3 rows x 21 columns]"
      ]
     },
     "execution_count": 4,
     "metadata": {},
     "output_type": "execute_result"
    }
   ],
   "source": [
    "demographics = pd.read_csv('data_for_regression_2019_10.csv')\n",
    "demographics.head(3)"
   ]
  },
  {
   "cell_type": "code",
   "execution_count": 5,
   "metadata": {
    "scrolled": true
   },
   "outputs": [
    {
     "name": "stdout",
     "output_type": "stream",
     "text": [
      "diltiazem_for_stata.csv\n",
      "ciclosporin_for_stata.csv\n"
     ]
    }
   ],
   "source": [
    "merged_tables = []\n",
    "i = 0\n",
    "for measure in measure_tables:\n",
    "    measure['month'] = pd.to_datetime(measure['month'])\n",
    "    #last_yr = measure['month'].max() - pd.tseries.offsets.MonthBegin(12)\n",
    "    df_last_yr = measure.loc[(measure['month']>='2018-01-01')&(measure['month']<='2018-12-01')]\n",
    "    df_last_yr = df_last_yr.groupby(['supplier','practice_id','pct_id','stp_id','regional_team_id'], as_index=False).sum()\n",
    "    df_last_yr['calc_value'] = df_last_yr['numerator'] / df_last_yr['denominator']\n",
    "    merged = df_last_yr.merge(demographics, how='left',left_on='practice_id',right_on='practice')\n",
    "    merged_tables.append(merged)\n",
    "    print('{}_for_stata.csv'.format(measures[i]))\n",
    "    merged.to_csv('{}_for_stata.csv'.format(measures[i]))\n",
    "    i +=1"
   ]
  },
  {
   "cell_type": "code",
   "execution_count": 6,
   "metadata": {},
   "outputs": [
    {
     "data": {
      "text/html": [
       "<table border=\"1\" class=\"dataframe\">\n",
       "  <thead>\n",
       "    <tr style=\"text-align: right;\">\n",
       "      <th></th>\n",
       "      <th>calc_value</th>\n",
       "    </tr>\n",
       "    <tr>\n",
       "      <th>supplier</th>\n",
       "      <th></th>\n",
       "    </tr>\n",
       "  </thead>\n",
       "  <tbody>\n",
       "    <tr>\n",
       "      <th>EMIS</th>\n",
       "      <td>0.226804</td>\n",
       "    </tr>\n",
       "    <tr>\n",
       "      <th>Microtest</th>\n",
       "      <td>0.009950</td>\n",
       "    </tr>\n",
       "    <tr>\n",
       "      <th>TPP</th>\n",
       "      <td>0.069539</td>\n",
       "    </tr>\n",
       "    <tr>\n",
       "      <th>Vision</th>\n",
       "      <td>0.119647</td>\n",
       "    </tr>\n",
       "  </tbody>\n",
       "</table>"
      ],
      "text/plain": [
       "<IPython.core.display.HTML object>"
      ]
     },
     "metadata": {},
     "output_type": "display_data"
    },
    {
     "data": {
      "text/html": [
       "<table border=\"1\" class=\"dataframe\">\n",
       "  <thead>\n",
       "    <tr style=\"text-align: right;\">\n",
       "      <th></th>\n",
       "      <th>calc_value</th>\n",
       "    </tr>\n",
       "    <tr>\n",
       "      <th>supplier</th>\n",
       "      <th></th>\n",
       "    </tr>\n",
       "  </thead>\n",
       "  <tbody>\n",
       "    <tr>\n",
       "      <th>EMIS</th>\n",
       "      <td>0.232054</td>\n",
       "    </tr>\n",
       "    <tr>\n",
       "      <th>Microtest</th>\n",
       "      <td>0.060714</td>\n",
       "    </tr>\n",
       "    <tr>\n",
       "      <th>TPP</th>\n",
       "      <td>0.077601</td>\n",
       "    </tr>\n",
       "    <tr>\n",
       "      <th>Vision</th>\n",
       "      <td>0.107961</td>\n",
       "    </tr>\n",
       "  </tbody>\n",
       "</table>"
      ],
      "text/plain": [
       "<IPython.core.display.HTML object>"
      ]
     },
     "metadata": {},
     "output_type": "display_data"
    }
   ],
   "source": [
    "from IPython.display import display, HTML\n",
    "\n",
    "for measure in merged_tables:\n",
    "    df = measure.groupby('supplier').mean()[['calc_value']]\n",
    "    display(HTML(df.to_html()))"
   ]
  },
  {
   "cell_type": "code",
   "execution_count": 8,
   "metadata": {},
   "outputs": [
    {
     "data": {
      "image/png": "[encoded data removed]",
      "text/plain": [
       "<Figure size 864x576 with 4 Axes>"
      ]
     },
     "metadata": {
      "needs_background": "light"
     },
     "output_type": "display_data"
    },
    {
     "data": {
      "image/png": "[encoded data removed]",
      "text/plain": [
       "<Figure size 864x576 with 4 Axes>"
      ]
     },
     "metadata": {
      "needs_background": "light"
     },
     "output_type": "display_data"
    }
   ],
   "source": [
    "import matplotlib.pyplot as plt\n",
    "import matplotlib.gridspec as gridspec\n",
    "\n",
    "f = plt.figure(figsize=(12, 8))\n",
    "ax = plt.subplot()\n",
    "merged_tables[0][['calc_value','supplier']].hist(bins=50,by='supplier',ax=ax)\n",
    "plt.show()\n",
    "\n",
    "f = plt.figure(figsize=(12, 8))\n",
    "ax2 = plt.subplot()\n",
    "merged_tables[1][['calc_value','supplier']].hist(bins=50,by='supplier',ax=ax2)\n",
    "\n",
    "ax.set_xlim(0,1)\n",
    "plt.show()"
   ]
  }
 ],
 "metadata": {
  "kernelspec": {
   "display_name": "Python 3",
   "language": "python",
   "name": "python3"
  },
  "language_info": {
   "codemirror_mode": {
    "name": "ipython",
    "version": 3
   },
   "file_extension": ".py",
   "mimetype": "text/x-python",
   "name": "python",
   "nbconvert_exporter": "python",
   "pygments_lexer": "ipython3",
   "version": "3.7.3"
  }
 },
 "nbformat": 4,
 "nbformat_minor": 2
}
